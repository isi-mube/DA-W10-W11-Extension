{
 "cells": [
  {
   "cell_type": "markdown",
   "metadata": {},
   "source": [
    "<h2 style=\"color: #FF6347;\">Introduction to Virtual Environments</h2>"
   ]
  },
  {
   "cell_type": "markdown",
   "metadata": {},
   "source": [
    "<div style=\"text-align: center;\">\n",
    "    <img src=\"https://i.giphy.com/media/v1.Y2lkPTc5MGI3NjExemdjOWpnN2FmZnBwYWN3ZTV1N2J4dTVyeW40bDdiMDF2ajh1bzd2ZCZlcD12MV9pbnRlcm5hbF9naWZfYnlfaWQmY3Q9Zw/fRgwpuil2wHww7OXjT/giphy.gif\" alt=\"NLP Gif\" style=\"width: 300px; height: 150px; object-fit: cover; object-position: center;\">\n",
    "</div>"
   ]
  },
  {
   "cell_type": "markdown",
   "metadata": {},
   "source": [
    "Virtual environments are isolated spaces where Python dependencies can be installed and managed separately. They ensure that different projects have their own dependencies without interfering with each other.\n",
    "\n",
    "In this notebook, you will learn how to:\n",
    "- Create and manage virtual environments using `pip` and `conda`.\n",
    "- Save and replicate dependencies using a `requirements.txt` file.\n",
    "- Practice setting up a virtual environment to replicate a Python project on another machine.\n",
    "\n",
    "Virtual environments are critical for maintaining clean and reproducible Python workflows."
   ]
  },
  {
   "cell_type": "markdown",
   "metadata": {},
   "source": [
    "<div style=\"text-align: center;\">\n",
    "    <img src=\"https://i.giphy.com/media/v1.Y2lkPTc5MGI3NjExcHJjdzloZzQxOTFobGlnZjE5dXplaTZydTJxb21xM2p6dWJrODVscSZlcD12MV9pbnRlcm5hbF9naWZfYnlfaWQmY3Q9Zw/LVi2RJcTvq5AuuIdJz/giphy.gif\" alt=\"NLP Gif\" style=\"width: 300px; height: 150px; object-fit: cover; object-position: center;\">\n",
    "</div>"
   ]
  },
  {
   "cell_type": "markdown",
   "metadata": {},
   "source": [
    "<h2 style=\"color: #FF6347;\">Conda, Miniconda, and Anaconda</h2>\n",
    "\n",
    "Conda is a powerful package management and environment management tool widely used in data science and machine learning workflows. It helps manage dependencies and create isolated environments.\n",
    "\n",
    "<h3 style=\"color: #FF8C00;\">What are Conda, Miniconda, and Anaconda?</h3>\n",
    "\n",
    "- **Conda**: A package and environment manager that works on Windows, macOS, and Linux. It is language-agnostic and can manage Python and non-Python libraries.\n",
    "- **Miniconda**: A lightweight distribution of Conda that includes only Conda and its dependencies. Ideal if you want to customize your environment without additional libraries.\n",
    "- **Anaconda**: A full-fledged distribution that includes Conda, Python, and over 1,500 data science libraries (e.g., NumPy, pandas, matplotlib). It’s great for beginners but can be large in size.\n",
    "\n",
    "<h3 style=\"color: #FF8C00;\">Choosing Between Them:</h3>\n",
    "\n",
    "- Use **Miniconda** if you prefer minimal installations and want to install only the required libraries.\n",
    "- Use **Anaconda** if you’re new to Python or need a ready-to-use environment for data science."
   ]
  },
  {
   "cell_type": "markdown",
   "metadata": {},
   "source": [
    "<h2 style=\"color: #FF6347;\">Creating Virtual Environments with pip</h2>\n",
    "\n",
    "Using `pip`, you can create and manage virtual environments to isolate dependencies. This section demonstrates:\n",
    "1. How to create, activate, and deactivate a virtual environment.\n",
    "2. Installing packages and saving dependencies into a `requirements.txt` file.\n",
    "3. Reproducing the environment on another machine.\n",
    "\n",
    "<h3 style=\"color: #FF8C00;\">Key Commands:</h3>\n",
    "\n",
    "- Create a virtual environment: `$ python -m venv 'env_name'`\n",
    "- Activate the virtual environment:\n",
    "  - **Windows**: `$ 'env_name'\\Scripts\\activate`\n",
    "  - **Mac/Linux**: `$ source env_name/bin/activate`\n",
    "- Save dependencies: `$ pip freeze > requirements.txt`\n",
    "- Install dependencies: `$ pip install -r requirements.txt`"
   ]
  },
  {
   "cell_type": "code",
   "execution_count": null,
   "metadata": {},
   "outputs": [],
   "source": [
    "# Step 1: Create a virtual environment\n",
    "!python -m venv my_env\n",
    "\n",
    "# Activate the environment (instructions in markdown)\n",
    "\n",
    "# Step 2: Install a package\n",
    "!pip install numpy\n",
    "\n",
    "# Step 3: Check installed packages\n",
    "!pip freeze\n",
    "\n",
    "# Step 4: Save dependencies to requirements.txt\n",
    "!pip freeze > requirements.txt\n",
    "\n",
    "print(\"Virtual environment created and dependencies saved successfully!\")"
   ]
  },
  {
   "cell_type": "markdown",
   "metadata": {},
   "source": [
    "<div style=\"text-align: center;\">\n",
    "    <img src=\"https://i.giphy.com/media/v1.Y2lkPTc5MGI3NjExOGlmbTZ2a25rbnN2c3FrcG1mb3pxd2Vtc2Fxb292eXU0OTFudWplaiZlcD12MV9pbnRlcm5hbF9naWZfYnlfaWQmY3Q9Zw/ij7ZUDifM6Vtr89MDf/giphy.gif\" alt=\"NLP Gif\" style=\"width: 300px; height: 150px; object-fit: cover; object-position: center;\">\n",
    "</div>"
   ]
  },
  {
   "cell_type": "markdown",
   "metadata": {},
   "source": [
    "<h2 style=\"color: #FF6347;\">Creating Virtual Environments with conda</h2>\n",
    "\n",
    "<h3 style=\"color: #FF8C00;\">Key Commands:</h3>\n",
    "\n",
    "- Create a virtual environment: `$ conda create -n 'env_name'`\n",
    "- Activate the virtual environment: `$ conda activate 'env_name'`\n",
    "- Save dependencies: `$ conda list --export > requirements.txt`\n",
    "- Reproduce the environment: `$ conda create -n 'new_env_name' --file requirements.txt`"
   ]
  },
  {
   "cell_type": "code",
   "execution_count": null,
   "metadata": {},
   "outputs": [],
   "source": [
    "# Step 1: Create a conda environment\n",
    "!conda create -n my_conda_env python=3.9 -y\n",
    "\n",
    "# Activate the environment (instructions in markdown)\n",
    "\n",
    "# Step 2: Install a package\n",
    "!conda install -c conda-forge pandas -y\n",
    "\n",
    "# Step 3: Save dependencies to requirements.txt\n",
    "!conda list --export > requirements.txt\n",
    "\n",
    "print(\"Conda environment created and dependencies saved successfully!\")"
   ]
  },
  {
   "cell_type": "markdown",
   "metadata": {},
   "source": [
    "<h2 style=\"color: #FF6347;\">Moving a Project to Another Machine</h2>\n",
    "\n",
    "This tutorial demonstrates how to replicate a Python project on another machine. Follow these steps:\n",
    "1. Create a virtual environment and install dependencies for an existing project.\n",
    "2. Save the dependencies to a `requirements.txt` file.\n",
    "3. On another machine, create a new virtual environment and install the dependencies.\n",
    "\n",
    "<h3 style=\"color: #FF8C00;\">Steps:</h3>\n",
    "\n",
    "1. **On Machine A**:\n",
    "   - Create a virtual environment and install the necessary packages.\n",
    "   - Save the dependencies using `$ pip freeze > requirements.txt`.\n",
    "2. **On Machine B**:\n",
    "   - Create a new virtual environment.\n",
    "   - Install the dependencies using `$ pip install -r requirements.txt`.\n",
    "   - Run the project to verify.\n",
    "\n",
    "This process ensures a reproducible environment for your Python projects."
   ]
  },
  {
   "cell_type": "code",
   "execution_count": null,
   "metadata": {},
   "outputs": [],
   "source": [
    "# On Machine A: Save dependencies\n",
    "!python -m venv project_env\n",
    "!pip install flask pandas matplotlib\n",
    "!pip freeze > requirements.txt\n",
    "print(\"Dependencies saved to requirements.txt\")\n",
    "\n",
    "# On Machine B: Replicate environment\n",
    "!python -m venv new_env\n",
    "# Activate the environment (instructions in markdown)\n",
    "!pip install -r requirements.txt\n",
    "print(\"Environment replicated successfully!\")"
   ]
  },
  {
   "cell_type": "markdown",
   "metadata": {},
   "source": [
    "<h2 style=\"color: #FF6347;\">Cleaning Up the Base Environment</h2>\n",
    "\n",
    "Keeping the base environment clean ensures that global Python dependencies do not interfere with virtual environments. Here are some best practices:\n",
    "- Always create virtual environments for individual projects.\n",
    "- Use `pip list` or `conda list` to monitor installed packages.\n",
    "- Uninstall unnecessary packages using `$ pip uninstall 'package_name'` or `$ conda remove 'package_name'`."
   ]
  },
  {
   "cell_type": "code",
   "execution_count": null,
   "metadata": {},
   "outputs": [],
   "source": [
    "# Check installed packages globally\n",
    "!pip list\n",
    "\n",
    "# Uninstall unnecessary packages\n",
    "!pip uninstall flask pandas matplotlib -y\n",
    "\n",
    "print(\"Base environment cleaned successfully!\")"
   ]
  },
  {
   "cell_type": "markdown",
   "metadata": {},
   "source": [
    "<h2 style=\"color: #FF6347;\">Conclusions</h2>\n",
    "\n",
    "In this notebook, we explored virtual environments and how to manage them using `pip` and `conda`. Key takeaways include:\n",
    "- Virtual environments help isolate dependencies, ensuring reproducible workflows.\n",
    "- `pip` is a lightweight tool for managing Python packages and virtual environments.\n",
    "- `conda` provides robust package management, ideal for data science projects.\n",
    "- Always save dependencies to a `requirements.txt` file for easy replication.\n",
    "\n",
    "By mastering these tools, you can maintain clean and reproducible Python environments for your projects."
   ]
  }
 ],
 "metadata": {
  "kernelspec": {
   "display_name": "torch",
   "language": "python",
   "name": "python3"
  },
  "language_info": {
   "name": "python",
   "version": "3.10.16"
  }
 },
 "nbformat": 4,
 "nbformat_minor": 2
}
