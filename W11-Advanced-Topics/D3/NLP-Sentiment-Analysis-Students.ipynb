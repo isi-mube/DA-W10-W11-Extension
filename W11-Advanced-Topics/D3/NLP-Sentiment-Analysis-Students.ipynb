{
 "cells": [
  {
   "cell_type": "markdown",
   "metadata": {},
   "source": [
    "<div style=\"text-align: center;\">\n",
    "    <h1 style=\"color: #FF6347;\">Introduction to Natural Language Processing</h1>\n",
    "</div>"
   ]
  },
  {
   "cell_type": "markdown",
   "metadata": {},
   "source": [
    "<div style=\"text-align: center;\">\n",
    "    <img src=\"https://i.giphy.com/media/v1.Y2lkPTc5MGI3NjExM2oxemt5MzN4NDlzcnllODFvcWgyNm5vZnBwMnBsYjZubTZhbHMwciZlcD12MV9pbnRlcm5naWZfYnlfaWQmY3Q9Zw/7VzgMsB6FLCilwS30v/giphy-downsized-large.gif\" alt=\"NLP Gif\" style=\"width: 300px; height: 150px; object-fit: cover; object-position: center;\">\n",
    "</div>"
   ]
  },
  {
   "cell_type": "markdown",
   "metadata": {},
   "source": [
    "Natural Language Processing (NLP) is a branch of artificial intelligence that deals with the interaction between computers and human languages. It aims to analyze, understand, and generate natural language in a way that is meaningful and valuable. NLP has numerous applications across industries, from virtual assistants to sentiment analysis in social media.\n",
    "\n",
    "<h3 style=\"color: #FF8C00;\">Key Areas of NLP</h3>\n",
    "\n",
    "- **Text Classification**: Assigning categories to text, such as spam detection and sentiment analysis."
   ]
  },
  {
   "cell_type": "markdown",
   "metadata": {},
   "source": [
    "______________________"
   ]
  },
  {
   "cell_type": "markdown",
   "metadata": {},
   "source": [
    "<h2 style=\"color: #FF6347;\">Sentiment Analysis</h2>"
   ]
  },
  {
   "cell_type": "markdown",
   "metadata": {},
   "source": [
    "Sentiment analysis is a subset of text classification, one of the key tasks in NLP. It specifically focuses on determining the sentiment, tone, or opinion expressed in a piece of text. \n",
    "\n",
    "<h3 style=\"color: #FF8C00;\">By the end of this lesson, you'll:</h3>\n",
    "\n",
    "- Understand the basics of Sentiment Analysis\n",
    "- Learn how to preprocess text data\n",
    "- Apply NLP techniques to extract meaningful insights\n",
    "- Perform sentiment analysis on a sample dataset"
   ]
  },
  {
   "cell_type": "code",
   "execution_count": null,
   "metadata": {},
   "outputs": [],
   "source": [
    "#pip install nltk\n",
    "#pip install seaborn\n",
    "#pip install plotly"
   ]
  },
  {
   "cell_type": "code",
   "execution_count": null,
   "metadata": {},
   "outputs": [],
   "source": [
    "# 📚 Basic Libraries\n",
    "import pandas as pd\n",
    "import numpy as np\n",
    "import warnings\n",
    "\n",
    "# 📊 Visualizations\n",
    "import matplotlib.pyplot as plt\n",
    "import seaborn as sns\n",
    "import plotly as px\n",
    "\n",
    "# 🤖 NLP Libraries\n",
    "import nltk # natural language toolkit"
   ]
  },
  {
   "cell_type": "code",
   "execution_count": null,
   "metadata": {},
   "outputs": [],
   "source": [
    "# 🔧 Make your functions:\n",
    "# Save this file as my_functions.py\n",
    "# Import your functions in your notebook\n",
    "# from my_functions import *\n",
    "\n",
    "def snake_columns(data):\n",
    "    \"\"\"\n",
    "    Standarize and returns snake_case columns\n",
    "    \"\"\"\n",
    "    data.columns = [column.lower().replace(' ', '_') for column in data.columns]\n",
    "\n",
    "# ⚙️ Settings\n",
    "pd.set_option('display.max_columns', None) # display all columns\n",
    "warnings.filterwarnings('ignore') # ignore warnings"
   ]
  },
  {
   "cell_type": "markdown",
   "metadata": {},
   "source": [
    "<h2 style=\"color: #FF6347;\">Data Extraction</h2>"
   ]
  },
  {
   "cell_type": "code",
   "execution_count": null,
   "metadata": {},
   "outputs": [],
   "source": [
    "df = pd.read_csv(\"amazon_reviews.csv\")"
   ]
  },
  {
   "cell_type": "markdown",
   "metadata": {},
   "source": [
    "<h2 style=\"color: #FF6347;\">EDA: First Exploration</h2>"
   ]
  },
  {
   "cell_type": "code",
   "execution_count": null,
   "metadata": {},
   "outputs": [],
   "source": []
  },
  {
   "cell_type": "markdown",
   "metadata": {},
   "source": [
    "<h3 style=\"color: #FF8C00;\">Overview</h3>\n",
    "\n",
    "The dataset contains Amazon product reviews with various features related to the reviews.\n",
    "\n",
    "<h3 style=\"color: #FF8C00;\">Features</h3>\n",
    "\n",
    "- **`Id`**: Unique identifier for each review.\n",
    "- **`ProductId`**: Unique identifier for the product.\n",
    "- **`UserId`**: Unique identifier for the user who wrote the review.\n",
    "- **`ProfileName`**: Name of the user who wrote the review.\n",
    "- **`HelpfulnessNumerator`**: Number of users who found the review helpful.\n",
    "- **`HelpfulnessDenominator`**: Number of users who indicated whether they found the review helpful.\n",
    "- **`Score`**: Rating given by the user (1 to 5).\n",
    "- **`Time`**: Timestamp for the review.\n",
    "- **`Summary`**: Short summary of the review.\n",
    "- **`Text`**: Full text of the review."
   ]
  },
  {
   "cell_type": "markdown",
   "metadata": {},
   "source": [
    "<h2 style=\"color: #FF6347;\">Data Cleaning</h2>"
   ]
  },
  {
   "cell_type": "code",
   "execution_count": null,
   "metadata": {},
   "outputs": [],
   "source": [
    "snake_columns(df)"
   ]
  },
  {
   "cell_type": "markdown",
   "metadata": {},
   "source": [
    "<h3 style=\"color: #FF8C00;\">Feature Selection</h3>\n",
    "\n",
    "From the dataframe `df`, we are particularly interested in the following columns:\n",
    "\n",
    "- **`score`**: Useful for comparing our sentiment analysis results.\n",
    "- **`summary`**: Provides a brief overview of the review.\n",
    "- **`text`**: The most important variable in our project. These texts will be broken down into tokens and processed to determine their sentiment."
   ]
  },
  {
   "cell_type": "code",
   "execution_count": null,
   "metadata": {},
   "outputs": [],
   "source": []
  },
  {
   "cell_type": "code",
   "execution_count": null,
   "metadata": {},
   "outputs": [],
   "source": [
    "df.shape"
   ]
  },
  {
   "cell_type": "markdown",
   "metadata": {},
   "source": [
    "- Lenght its too big. It would be better if we use a fraction of it to make it easier."
   ]
  },
  {
   "cell_type": "code",
   "execution_count": null,
   "metadata": {},
   "outputs": [],
   "source": []
  },
  {
   "cell_type": "markdown",
   "metadata": {},
   "source": [
    "<h2 style=\"color: #FF6347;\">EDA</h2>\n",
    "\n",
    "- Before we go further, let's plot **`score`** to see its distribution and have an idea of the data we are working with."
   ]
  },
  {
   "cell_type": "code",
   "execution_count": null,
   "metadata": {},
   "outputs": [],
   "source": [
    "score_counts2 = df2[\"score\"].value_counts().sort_index(ascending=False)\n",
    "labels = score_counts2.index\n",
    "sizes = score_counts2.values"
   ]
  },
  {
   "cell_type": "code",
   "execution_count": null,
   "metadata": {},
   "outputs": [],
   "source": [
    "custom_colors = sns.color_palette(\"Oranges\", 5)\n",
    "plt.figure(figsize=(12, 8))\n",
    "plt.pie(sizes, labels=labels, autopct=lambda p: f'{p:.1f}%\\n({int(p * sum(sizes) / 100):,})', startangle=270, colors=custom_colors, wedgeprops=dict(width=0.2), textprops={'fontsize': 11})\n",
    "plt.title(\"Scores Distribution\", size=20)\n",
    "plt.legend([\"5: Positive\", \"4: Positive\", \"3: Neutral\", \"2: Negative\", \"1: Negative\"], loc=\"best\")\n",
    "\n",
    "plt.show()"
   ]
  },
  {
   "cell_type": "code",
   "execution_count": null,
   "metadata": {},
   "outputs": [],
   "source": [
    "plt.figure(figsize=(8, 5))\n",
    "plt.hist(df2['score'], bins=5, density=True, color='orange', alpha=0.5, edgecolor='orange') #\n",
    "plt.title(\"Normalized Histogram of Scores\")\n",
    "plt.xlabel(\"Score\")\n",
    "plt.ylabel(\"Proportion\")\n",
    "plt.show()"
   ]
  },
  {
   "cell_type": "markdown",
   "metadata": {},
   "source": [
    "<h2 style=\"color: #FF6347;\">Sentiment Analysis Techniques: VADER and RoBERTa</h2>\n",
    "\n",
    "Sentiment analysis, also known as opinion mining, is a process of computationally identifying and categorizing opinions expressed in text. There are numerous ways to perform sentiment analysis, but in this introduction, we’ll explore two popular methods:"
   ]
  },
  {
   "cell_type": "markdown",
   "metadata": {},
   "source": [
    "<div style=\"text-align: center;\">\n",
    "    <img src=\"https://i.pinimg.com/736x/6f/57/b1/6f57b1a0f7cd78de6f9c8d0a0b8626db.jpg\n",
    "    \" alt=\"Vader\" style=\"width: 300px; height: 150px; object-fit: cover; object-position: center;\">\n",
    "</div>"
   ]
  },
  {
   "cell_type": "markdown",
   "metadata": {},
   "source": [
    "<h2 style=\"color: #FF8C00;\">VADER</h2>\n",
    "\n",
    "VADER stands for **Valence Aware Dictionary and Sentiment Reasoner**. It is a lexicon and rule-based sentiment analysis tool specifically designed to recognize sentiments expressed in informal text, such as social media, reviews, and comments. VADER is part of the Natural Language Toolkit (NLTK) and is ideal for **quick sentiment evaluations**.\n",
    "\n",
    "- **Bag of Words Approach:**  \n",
    "    VADER operates using a predefined dictionary of words, each assigned a sentiment score (positive, negative, or neutral). This approach means it evaluates sentiment without fully understanding the context of the text.\n",
    "\n",
    "<span style=\"color: green;\">**Advantages:**</span>\n",
    "- **Accessible for Beginners:** It is easy to implement and understand, making it a great starting point for sentiment analysis.\n",
    "- **Fast and Lightweight:** VADER is optimized for quick prototypes and small-scale projects.\n",
    "- **Handles Social Media Slang:** It includes specific heuristics for emoticons, emojis, and slang commonly used in social media.\n",
    "\n",
    "<span style=\"color: red;\">**Limitations:**</span>\n",
    "- **Lacks Context Awareness:** As a bag-of-words model, it doesn't consider the surrounding context, which can lead to inaccurate predictions for complex sentences.\n",
    "- **Limited Self-Awareness:** It struggles with understanding nuanced sentiment or sarcasm."
   ]
  },
  {
   "cell_type": "code",
   "execution_count": null,
   "metadata": {},
   "outputs": [],
   "source": [
    "# vader_lexicon is a lexicon that contains positive and negative words\n",
    "nltk.download('vader_lexicon')"
   ]
  },
  {
   "cell_type": "code",
   "execution_count": null,
   "metadata": {},
   "outputs": [],
   "source": [
    "# SentimentIntensityAnalyzer will use VADER lexicon to analyze the sentiment of the text\n",
    "from nltk.sentiment import SentimentIntensityAnalyzer\n",
    "\n",
    "# vd object will use VADER and SentimentIntensityAnalyzer to analyze the sentiment of the text\n",
    "vd = SentimentIntensityAnalyzer()"
   ]
  },
  {
   "cell_type": "markdown",
   "metadata": {},
   "source": [
    "<h2 style=\"color: #FF8C00;\">VADER Test</h2>"
   ]
  },
  {
   "cell_type": "code",
   "execution_count": null,
   "metadata": {},
   "outputs": [],
   "source": [
    "df2.reset_index(drop=True, inplace=True)"
   ]
  },
  {
   "cell_type": "code",
   "execution_count": null,
   "metadata": {},
   "outputs": [],
   "source": [
    "example = df2['text'][0]\n",
    "example.split(\".\")"
   ]
  },
  {
   "cell_type": "code",
   "execution_count": null,
   "metadata": {},
   "outputs": [],
   "source": [
    "# .polarity_scores() returns a dictionary with the sentiment scores:"
   ]
  },
  {
   "cell_type": "code",
   "execution_count": null,
   "metadata": {},
   "outputs": [],
   "source": [
    "# dictionary to DataFrame:\n",
    "vd_df = pd.DataFrame([polarity])\n",
    "round(vd_df.value_counts(normalize=True).reset_index().rename(columns={'proportion': 'total_score'}), 2)"
   ]
  },
  {
   "cell_type": "markdown",
   "metadata": {},
   "source": [
    "<h2 style=\"color: #FF8C00;\">VADER Scores</h2>\n",
    "\n",
    "- **`neg` (Negative Score):**\n",
    "  - Proportion of text with negative sentiment.\n",
    "  - Example: `neg = 0.473` → 47.3% negative.\n",
    "\n",
    "- **`neu` (Neutral Score):**\n",
    "  - Proportion of text that is neutral.\n",
    "  - Example: `neu = 0.527` → 52.7% neutral.\n",
    "\n",
    "- **`pos` (Positive Score):**\n",
    "  - Proportion of text with positive sentiment.\n",
    "  - Example: `pos = 0.0` → 0% positive.\n",
    "\n",
    "- **`compound` (Overall Sentiment):**\n",
    "  - Weighted score combining all sentiments.\n",
    "  - Range: `-1.0` (negative) to `1.0` (positive).\n",
    "  - Example: `compound = -0.8016` → Strong negative sentiment."
   ]
  },
  {
   "cell_type": "markdown",
   "metadata": {},
   "source": [
    "<h2 style=\"color: #FF8C00;\">Applying VADER to the DataFrame</h2>\n",
    "\n",
    "From the dataframe `df`, we are particularly interested in the following columns:\n",
    "\n",
    "- **`score`**: Useful for comparing our sentiment analysis results.\n",
    "- **`summary`**: Provides a brief overview of the review.\n",
    "- **`text`**: The most important variable in our project. These texts will be broken down into tokens and processed to determine their sentiment."
   ]
  },
  {
   "cell_type": "code",
   "execution_count": null,
   "metadata": {},
   "outputs": [],
   "source": [
    "# Iterate using iterrows for all text:\n",
    "text_scores = {}\n",
    "vader_df = pd.DataFrame()\n",
    "\n",
    "for _, row in df2.iterrows():\n",
    "    # get the text\n",
    "    # get polarity dict\n",
    "    # make a df from polarity dict\n",
    "    # concat to vader_df"
   ]
  },
  {
   "cell_type": "code",
   "execution_count": null,
   "metadata": {},
   "outputs": [],
   "source": [
    "data_vaders = pd.concat([df2, vader_df], axis=1)  \n",
    "data_vaders"
   ]
  },
  {
   "cell_type": "code",
   "execution_count": null,
   "metadata": {},
   "outputs": [],
   "source": [
    "data_vaders.groupby('score').get_group(1).sort_values('compound', ascending=True).head(5)"
   ]
  },
  {
   "cell_type": "code",
   "execution_count": null,
   "metadata": {},
   "outputs": [],
   "source": [
    "plt.figure(figsize=(10, 4)) \n",
    "sns.boxplot(data=data_vaders, x=\"score\", y=\"compound\", palette=\"copper\", width=0.6, linewidth=0.8)\n",
    "plt.title('Distribution of Compound Sentiment Scores by Review Score', fontsize=13, pad=5)\n",
    "plt.xlabel('Review Score', fontsize=14, labelpad=10)\n",
    "plt.ylabel('Compound Sentiment Score', fontsize=14, labelpad=10)\n",
    "plt.xticks(fontsize=10)\n",
    "plt.yticks(fontsize=10)\n",
    "plt.grid(axis='y', linestyle='--', alpha=0.7)\n",
    "plt.show()"
   ]
  },
  {
   "cell_type": "code",
   "execution_count": null,
   "metadata": {},
   "outputs": [],
   "source": [
    "fig, axes = plt.subplots(2, 2, figsize=(13, 7))\n",
    "\n",
    "sns.boxplot(data=data_vaders, x=\"score\", y=\"compound\", palette=\"copper\", width=0.6, linewidth=0.8, ax=axes[0, 0])\n",
    "axes[0, 0].set_title('Distribution of Compound Sentiment Scores by Review Score', fontsize=13, pad=5)\n",
    "axes[0, 0].set_xlabel('Review Score', fontsize=14, labelpad=10)\n",
    "axes[0, 0].set_ylabel('Compound Sentiment Score', fontsize=14, labelpad=10)\n",
    "axes[0, 0].tick_params(axis='x', labelsize=10)\n",
    "axes[0, 0].tick_params(axis='y', labelsize=10)\n",
    "axes[0, 0].grid(axis='y', linestyle='--', alpha=0.7)\n",
    "\n",
    "sns.boxplot(data=data_vaders, x=\"score\", y=\"neg\", palette=\"copper\", width=0.6, linewidth=0.8, ax=axes[0, 1])\n",
    "axes[0, 1].set_title('Distribution of Negative Sentiment Scores by Review Score', fontsize=13, pad=5)\n",
    "axes[0, 1].set_xlabel('Review Score', fontsize=14, labelpad=10)\n",
    "axes[0, 1].set_ylabel('Negative Sentiment Score', fontsize=14, labelpad=10)\n",
    "axes[0, 1].tick_params(axis='x', labelsize=10)\n",
    "axes[0, 1].tick_params(axis='y', labelsize=10)\n",
    "axes[0, 1].grid(axis='y', linestyle='--', alpha=0.7)\n",
    "\n",
    "sns.boxplot(data=data_vaders, x=\"score\", y=\"neu\", palette=\"copper\", width=0.6, linewidth=0.8, ax=axes[1, 0])\n",
    "axes[1, 0].set_title('Distribution of Neutral Sentiment Scores by Review Score', fontsize=13, pad=5)\n",
    "axes[1, 0].set_xlabel('Review Score', fontsize=14, labelpad=10)\n",
    "axes[1, 0].set_ylabel('Neutral Sentiment Score', fontsize=14, labelpad=10)\n",
    "axes[1, 0].tick_params(axis='x', labelsize=10)\n",
    "axes[1, 0].tick_params(axis='y', labelsize=10)\n",
    "axes[1, 0].grid(axis='y', linestyle='--', alpha=0.7)\n",
    "\n",
    "sns.boxplot(data=data_vaders, x=\"score\", y=\"pos\", palette=\"copper\", width=0.6, linewidth=0.8, ax=axes[1, 1])\n",
    "axes[1, 1].set_title('Distribution of Positive Sentiment Scores by Review Score', fontsize=13, pad=5)\n",
    "axes[1, 1].set_xlabel('Review Score', fontsize=14, labelpad=10)\n",
    "axes[1, 1].set_ylabel('Positive Sentiment Score', fontsize=14, labelpad=10)\n",
    "axes[1, 1].tick_params(axis='x', labelsize=10)\n",
    "axes[1, 1].tick_params(axis='y', labelsize=10)\n",
    "axes[1, 1].grid(axis='y', linestyle='--', alpha=0.7)\n",
    "\n",
    "plt.tight_layout()\n",
    "plt.show()"
   ]
  },
  {
   "cell_type": "markdown",
   "metadata": {},
   "source": [
    "<h3 style=\"color: #FF8C00;\">Conclusions from Sentiment Analysis:</h3>\n",
    "\n",
    "1. **Sentiment by Review Score:**\n",
    "   - **Score 5**: Strongly positive sentiment.\n",
    "   - **Score 1**: Strongly negative sentiment.\n",
    "   - **Scores 2–4**: Mixed sentiment with varied compound scores."
   ]
  },
  {
   "cell_type": "markdown",
   "metadata": {},
   "source": [
    "<div style=\"text-align: center;\">\n",
    "    <img src=\"https://www.investopedia.com/thmb/ulGrKT5WnVclGMOgQQVe65OtmeI=/1500x0/filters:no_upscale():max_bytes(150000):strip_icc()/large-language-model-7563532-final-9e350e9fa02d4685887aa061af7a2de2.png\" alt=\"Roberta\" style=\"width: 300px; height: 150px; object-fit: cover; object-position: center;\">\n",
    "</div>"
   ]
  },
  {
   "cell_type": "markdown",
   "metadata": {},
   "source": [
    "<h3 style=\"color: #FF8C00;\">About Large Language Models & Transformers</h3>\n",
    "\n",
    "Large Language Models (LLMs) are advanced AI systems trained on massive datasets to understand and generate human-like language. They use deep learning techniques, primarily **transformer architectures**, to excel in various natural language processing (NLP) tasks such as translation, summarization, and sentiment analysis.\n",
    "\n",
    "\n",
    "<h4 style=\"color: #FF4500;\">What is a Transformer?</h4>\n",
    "Transformers are a type of neural network architecture designed to process sequential data, such as text, more efficiently than traditional models like recurrent neural networks (RNNs). They revolutionized NLP by introducing a **self-attention mechanism** that allows models to focus on the most relevant parts of a sentence while processing.\n",
    "\n",
    "**Key Features of Transformers:**\n",
    "- **Self-Attention Mechanism:** Enables the model to weigh the importance of each word in a sentence relative to all others, capturing context effectively.\n",
    "- **Parallel Processing:** Processes entire sequences simultaneously rather than sequentially, leading to faster computation.\n",
    "- **Encoder-Decoder Framework:** Commonly used for tasks like machine translation, where the **encoder** processes the input and the **decoder** generates the output.\n",
    "\n",
    "Transformers serve as the backbone of LLMs, enabling powerful and scalable AI models like BERT, RoBERTa, and GPT.\n"
   ]
  },
  {
   "attachments": {
    "image-2.png": {
     "image/png": "[encoded data removed]"
    }
   },
   "cell_type": "markdown",
   "metadata": {},
   "source": [
    "![image-2.png](attachment:image-2.png)"
   ]
  },
  {
   "cell_type": "markdown",
   "metadata": {},
   "source": [
    "<h4 style=\"color: #FF4500;\">Types of Transformers</h4>\n",
    "\n",
    "1. **Encoder-Only Models**  \n",
    "   - Example: **BERT, RoBERTa**\n",
    "   - Focus: Deep understanding of input text for tasks like sentiment analysis, classification, and question answering.\n",
    "\n",
    "2. **Decoder-Only Models**  \n",
    "   - Example: **GPT (Generative Pretrained Transformer)**\n",
    "   - Focus: Text generation tasks such as dialogue, content creation, and language modeling.\n",
    "\n",
    "3. **Encoder-Decoder Models**  \n",
    "   - Example: **T5 (Text-to-Text Transfer Transformer), BART**\n",
    "   - Focus: Tasks that involve both understanding input and generating output, such as translation, summarization, and paraphrasing.\n",
    "\n",
    "<span style=\"color: green;\">**Advantages:**</span>\n",
    "- Highly flexible and scalable for diverse NLP tasks.\n",
    "- Efficient handling of long-range dependencies in text.\n",
    "- Forms the backbone of state-of-the-art language models.\n",
    "\n",
    "<span style=\"color: red;\">**Limitations:**</span>\n",
    "- Requires substantial computational resources to train and deploy.\n",
    "- Prone to overfitting without proper regularization.\n",
    "- Large models may generate biased or inappropriate content without fine-tuning.\n",
    "\n",
    "Transformers have redefined NLP, making them the core architecture for nearly all modern language models."
   ]
  },
  {
   "cell_type": "markdown",
   "metadata": {},
   "source": [
    "<div style=\"text-align: center;\">\n",
    "    <img src=\"https://img.freepik.com/premium-photo/robot-is-enhancing-its-knowledge-by-reading-book-library_98402-207776.jpg\" alt=\"Roberta\" style=\"width: 300px; height: 150px; object-fit: cover; object-position: center;\">\n",
    "</div>"
   ]
  },
  {
   "cell_type": "markdown",
   "metadata": {},
   "source": [
    "<h3 style=\"color: #FF8C00;\">RoBERTa</h3>\n",
    "\n",
    "RoBERTa stands for **A Robustly Optimized BERT Approach**. It is a transformer-based model that builds on the BERT architecture by pretraining on larger datasets and using dynamic masking. Unlike VADER, RoBERTa is a **contextualized sentiment analysis tool** that deeply understands the meaning of text.\n",
    "\n",
    "**Key Features of RoBERTa:**\n",
    "- **Transformer Architecture:**  \n",
    "    Uses a neural network model that takes into account the entire sentence context for accurate sentiment predictions.\n",
    "\n",
    "<span style=\"color: green;\">**Advantages:**</span>\n",
    "- **Context-Aware Analysis:** Unlike VADER, RoBERTa can interpret nuanced meanings, idioms, and even sarcasm.\n",
    "- **High Accuracy:** Particularly effective for complex tasks such as mood analysis, opinion extraction, and review summarization.\n",
    "\n",
    "<span style=\"color: red;\">**Limitations:**</span>\n",
    "- **Computationally Intensive:** Requires more resources and time compared to lexicon-based methods.\n",
    "- **Requires Training:** Needs fine-tuning on domain-specific datasets for optimal results."
   ]
  },
  {
   "cell_type": "code",
   "execution_count": null,
   "metadata": {},
   "outputs": [],
   "source": [
    "# pip install transformers"
   ]
  },
  {
   "cell_type": "code",
   "execution_count": null,
   "metadata": {},
   "outputs": [],
   "source": [
    "import tensorflow as tf"
   ]
  },
  {
   "cell_type": "markdown",
   "metadata": {},
   "source": [
    "We will use a pre-trained RoBERTa model named \"Emotion English DistilRoBERTa-base\".\n",
    "- This model is specifically refined to analyze text and categorize it into various emotional moods.\n",
    "- The model's embeddings are designed to effectively break down and interpret the emotional content of the text."
   ]
  },
  {
   "cell_type": "code",
   "execution_count": null,
   "metadata": {},
   "outputs": [],
   "source": [
    "# Try also Hugging Face's Transformers\n",
    "model = \"j-hartmann/emotion-english-distilroberta-base\""
   ]
  },
  {
   "cell_type": "code",
   "execution_count": null,
   "metadata": {},
   "outputs": [],
   "source": [
    "# pip install tf-keras\n",
    "# We need to install tf-keras because the model is a TensorFlow model"
   ]
  },
  {
   "cell_type": "code",
   "execution_count": null,
   "metadata": {},
   "outputs": [],
   "source": [
    "from transformers import pipeline"
   ]
  },
  {
   "cell_type": "code",
   "execution_count": null,
   "metadata": {},
   "outputs": [],
   "source": [
    "roberta = pipeline(\"text-classification\", model, return_all_scores=True)"
   ]
  },
  {
   "cell_type": "code",
   "execution_count": null,
   "metadata": {},
   "outputs": [],
   "source": [
    "roberta(\"It's really nice to meet you\")"
   ]
  },
  {
   "cell_type": "code",
   "execution_count": null,
   "metadata": {},
   "outputs": [],
   "source": [
    "from transformers import AutoTokenizer"
   ]
  },
  {
   "cell_type": "code",
   "execution_count": null,
   "metadata": {},
   "outputs": [],
   "source": [
    "tokenizer = AutoTokenizer.from_pretrained(model)"
   ]
  },
  {
   "cell_type": "code",
   "execution_count": null,
   "metadata": {},
   "outputs": [],
   "source": [
    "test = tokenizer(\"It's really nice to meet you\")\n",
    "test"
   ]
  },
  {
   "cell_type": "markdown",
   "metadata": {},
   "source": [
    "<h3 style=\"color: #FF8C00;\">Using Transformers for Sequence Classification</h3>\n",
    "\n",
    "The `transformers` library from Hugging Face provides a powerful interface to work with pre-trained transformer models for various tasks. One such task is **sequence classification**, where the model processes a sequence of tokens (such as text) and outputs a classification label.\n",
    "\n",
    "The `TFAutoModelForSequenceClassification` class allows you to load a pre-trained transformer model specifically for sequence classification tasks. It is designed to work seamlessly with TensorFlow.\n",
    "\n",
    "<h4 style=\"color: #FF4500;\">What is Sequence Classification?</h4>\n",
    "\n",
    "Sequence classification is a task where the model:\n",
    "1. **Input:** Receives a sequence of tokens (e.g., a sentence or document).\n",
    "2. **Processing:** Encodes the sequence using a transformer model.\n",
    "3. **Output:** Predicts a category or label based on the input sequence.\n",
    "\n",
    "<h4 style=\"color: #FF4500;\">Common Use Cases</h4>\n",
    "\n",
    "- **Sentiment Analysis:** Classify text as positive, negative, or neutral.\n",
    "- **Spam Detection:** Determine whether a text or email is spam or not.\n",
    "- **Intent Recognition:** Identify user intent in conversational AI."
   ]
  },
  {
   "cell_type": "code",
   "execution_count": null,
   "metadata": {},
   "outputs": [],
   "source": [
    "def mooder(text):\n",
    "    \"\"\"\n",
    "    This function will return the mood of the text\n",
    "        returns_tensors=\"tf\" will return the tokens as a TensorFlow tensor\n",
    "        max_length=512 will limit the number of tokens to 512\n",
    "        truncation=True will truncate the text if it exceeds the max_length\n",
    "        padding=\"longest\" will pad the text to the longest sequence in the batch\n",
    "    \"\"\"\n",
    "    encoded_text = tokenizer(text, return_tensors=\"tf\", max_length=512, truncation=True, padding=\"longest\")\n",
    "    output = model(encoded_text)\n",
    "    scores = output.logits[0].numpy()\n",
    "    moods = {\n",
    "        \"anger\": scores[0],\n",
    "        \"disgust\": scores[1],\n",
    "        \"fear\": scores[2],\n",
    "        \"joy\": scores[3],\n",
    "        \"neutral\": scores[4],\n",
    "        \"sadness\": scores[5],\n",
    "        \"surprise\": scores[6]\n",
    "    }\n",
    "    return moods"
   ]
  },
  {
   "cell_type": "code",
   "execution_count": null,
   "metadata": {},
   "outputs": [],
   "source": [
    "from transformers import TFAutoModelForSequenceClassification # will use the model for sequence classification\n",
    "\n",
    "model = TFAutoModelForSequenceClassification.from_pretrained(model)"
   ]
  },
  {
   "cell_type": "code",
   "execution_count": null,
   "metadata": {},
   "outputs": [],
   "source": [
    "df3 = df.sample(500)"
   ]
  },
  {
   "cell_type": "code",
   "execution_count": null,
   "metadata": {},
   "outputs": [],
   "source": [
    "roberta_df = df3[\"text\"].apply(mooder)"
   ]
  },
  {
   "cell_type": "code",
   "execution_count": null,
   "metadata": {},
   "outputs": [],
   "source": []
  },
  {
   "cell_type": "markdown",
   "metadata": {},
   "source": [
    "- **Range of Values**:  \n",
    "  - The scores are **logits** (raw model outputs) that can range from **negative** to **positive**.  \n",
    "  - **Higher positive values** → Stronger presence of the emotion.  \n",
    "  - **Lower negative values** → Absence of the emotion.  \n",
    "\n",
    "- **Examples**:  \n",
    "  - **`joy = 3.125`**: Indicates a strong presence of joy.  \n",
    "  - **`sadness = -2.810`**: Suggests sadness is not present.  "
   ]
  },
  {
   "cell_type": "code",
   "execution_count": null,
   "metadata": {},
   "outputs": [],
   "source": [
    "def normalize_logits(row):\n",
    "      scores = np.exp(row)\n",
    "      return scores / scores.sum()\n",
    "\n",
    "# Range of 0 to 1\n",
    "normalized_scores = roberta_scores.apply(normalize_logits, axis=1)\n",
    "normalized_scores.head()"
   ]
  },
  {
   "cell_type": "markdown",
   "metadata": {},
   "source": [
    "<h3 style=\"color: #FF8C00;\">Emotions Detected by RoBERTa</h3>\n",
    "\n",
    "RoBERTa, as a transformer-based model, can be fine-tuned for emotion detection tasks. Emotion detection involves analyzing text to identify and classify the underlying emotional tone. The following emotions can be detected by RoBERTa when fine-tuned appropriately:\n",
    "\n",
    "- **Anger**: Indicates the presence of anger in the text, often associated with frustration or hostility.\n",
    "- **Disgust**: Reflects feelings of aversion or disapproval expressed in the text.\n",
    "- **Fear**: Captures the sentiment of fear or apprehension within the text, often tied to uncertainty or danger.\n",
    "- **Joy**: Represents the level of happiness, excitement, or positive emotions conveyed in the text.\n",
    "- **Neutral**: Indicates a neutral sentiment, where the text does not lean towards any strong positive or negative emotion.\n",
    "- **Sadness**: Measures the extent of sadness, sorrow, or grief expressed in the text.\n",
    "- **Surprise**: Detects any surprising elements, such as shock or unexpected outcomes, within the text.\n",
    "\n",
    "<h4 style=\"color: #FF4500;\">Origin of These Emotions: Ekman’s Psychology</h4>\n",
    "\n",
    "The emotions identified above are based on the work of **Dr. Paul Ekman**, a renowned psychologist who proposed the concept of **basic emotions**. According to Ekman, these are universal emotions experienced by humans across all cultures, and they include:\n",
    "\n",
    "- **Anger**\n",
    "- **Disgust**\n",
    "- **Fear**\n",
    "- **Happiness (Joy)**\n",
    "- **Sadness**\n",
    "- **Surprise**\n",
    "  \n",
    "<div style=\"text-align: center;\">\n",
    "    <img src=\"https://www.researchgate.net/profile/Xin-Wang-532/publication/346179935/figure/fig1/AS:1056708940034050@1628950452477/Ekmans-six-basic-emotions-and-Plutchiks-wheel-of-emotions-the-middle-circle-contains-8.ppm\" alt=\"NLP Gif\" style=\"width: 400px; height: 200px; object-fit: cover; object-position: center;\">\n",
    "</div>\n",
    "\n",
    "Ekman’s research demonstrated that these emotions are biologically hardwired and universally recognized, primarily through facial expressions. Over time, these basic emotions have been adapted for various applications, including sentiment analysis and emotion detection in text data.\n",
    "\n",
    "<h4 style=\"color: #FF4500;\">Applications of Ekman’s Basic Emotions in AI</h4>\n",
    "\n",
    "- **Emotion Detection Models**: AI systems, like those based on RoBERTa, use Ekman’s framework to classify textual data into emotional categories.\n",
    "- **Cross-Cultural Studies**: These universal emotions enable models to work effectively across languages and cultures.\n",
    "- **Human-Machine Interaction**: Emotional understanding enhances AI-driven applications like chatbots and virtual assistants."
   ]
  },
  {
   "cell_type": "code",
   "execution_count": null,
   "metadata": {},
   "outputs": [],
   "source": [
    "df3.reset_index(drop=True, inplace=True)"
   ]
  },
  {
   "cell_type": "code",
   "execution_count": null,
   "metadata": {},
   "outputs": [],
   "source": [
    "moods = pd.concat([df3, roberta_scores], axis=1)"
   ]
  },
  {
   "cell_type": "code",
   "execution_count": null,
   "metadata": {},
   "outputs": [],
   "source": [
    "moods.sample(5)"
   ]
  },
  {
   "cell_type": "code",
   "execution_count": null,
   "metadata": {},
   "outputs": [],
   "source": []
  },
  {
   "cell_type": "code",
   "execution_count": null,
   "metadata": {},
   "outputs": [],
   "source": [
    "sns.boxplot(data=roberta_scores)"
   ]
  },
  {
   "cell_type": "markdown",
   "metadata": {},
   "source": [
    "<h2 style=\"color: #FF8C00;\">Take-Home Messages</h2>\n",
    "\n",
    "1. **VADER Sentiment Analysis**:\n",
    "    - Efficiently captures sentiment, aligning well with review scores.\n",
    "    - Ideal for quick sentiment evaluations, especially for social media and informal text.\n",
    "\n",
    "2. **RoBERTa Emotion Detection**:\n",
    "    - Provides nuanced understanding by identifying specific emotions.\n",
    "    - Suitable for detailed sentiment analysis and mood detection in complex texts.\n",
    "\n",
    "3. **Model Comparison**:\n",
    "    - **VADER**: Fast, lightweight, and easy to implement.\n",
    "    - **RoBERTa**: Higher accuracy with context-aware analysis, but more computationally intensive.\n",
    "    - Choose based on the specific requirements of the sentiment analysis task.\n"
   ]
  }
 ],
 "metadata": {
  "kernelspec": {
   "display_name": "Python 3 (ipykernel)",
   "language": "python",
   "name": "python3"
  },
  "language_info": {
   "codemirror_mode": {
    "name": "ipython",
    "version": 3
   },
   "file_extension": ".py",
   "mimetype": "text/x-python",
   "name": "python",
   "nbconvert_exporter": "python",
   "pygments_lexer": "ipython3",
   "version": "3.10.16"
  }
 },
 "nbformat": 4,
 "nbformat_minor": 4
}
