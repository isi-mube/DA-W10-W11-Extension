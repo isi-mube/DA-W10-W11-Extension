{
 "cells": [
  {
   "cell_type": "markdown",
   "metadata": {},
   "source": [
    "<div style=\"text-align: center;\">\n",
    "    <img src=\"https://i.giphy.com/media/v1.Y2lkPTc5MGI3NjExamdmZDVtNjV1OGw3bTJwNXZnbDhocHF0eG0wOGdrb3hoZ3oxNzBqcyZlcD12MV9pbnRlcm5hbF9naWZfYnlfaWQmY3Q9Zw/pOEbLRT4SwD35IELiQ/giphy.gif\" alt=\"let's go\">\n",
    "</div>"
   ]
  },
  {
   "cell_type": "markdown",
   "metadata": {},
   "source": [
    "<h1 style=\"color: #00BFFF;\">Python-SQL Connection</h1>\n",
    "\n",
    "This notebook demonstrates how to establish a connection between Python and MySQL Workbench, retrieve data from an API, and store the data in a MySQL database using an **ELT (Extract, Load, Transform)** approach. \n",
    "\n",
    "The focus is on integrating API data into a structured SQL table for further analysis."
   ]
  },
  {
   "cell_type": "markdown",
   "metadata": {},
   "source": [
    "<h2 style=\"color: #00BFFF;\">[0]</h2>"
   ]
  },
  {
   "cell_type": "code",
   "execution_count": 1,
   "metadata": {},
   "outputs": [],
   "source": [
    "# 📚 Basic libraries\n",
    "import pandas as pd # data manipulation\n",
    "import numpy as np # numerical operations\n",
    "import warnings # warning messages management\n",
    "\n",
    "# 🌐 New Libraries\n",
    "from getpass import getpass # get password without showing it\n",
    "import pymysql # MySQL connection\n",
    "\n",
    "# API\n",
    "import requests # HTTP requests\n",
    "import time # time operations\n",
    "\n",
    "# ⚙️ Settings\n",
    "pd.set_option('display.max_columns', None) # display all columns\n",
    "warnings.filterwarnings('ignore') # ignore warnings"
   ]
  },
  {
   "cell_type": "code",
   "execution_count": 3,
   "metadata": {},
   "outputs": [],
   "source": [
    "def create_connection():\n",
    "    password = getpass(\"Please, kindly insert your password: \")\n",
    "    cnx = pymysql.connect(user='root', password=password, host='localhost')\n",
    "    \n",
    "    if cnx.open:\n",
    "        print(\"Connection successfully opened.\")\n",
    "        print()\n",
    "        cursor = cnx.cursor()\n",
    "        cursor.execute(\"SHOW DATABASES\")\n",
    "        databases = cursor.fetchall()\n",
    "        print(\"Available databases:\")\n",
    "        db_list = [db[0] for db in databases]\n",
    "        for db in db_list:\n",
    "            print(f\"- {db}\")\n",
    "        print()\n",
    "    else:\n",
    "        print(\"Failed to open connection.\")\n",
    "        print()\n",
    "        return None\n",
    "    \n",
    "    while True:\n",
    "        database = input(\"Please, kindly insert your database name: \")\n",
    "        if database in db_list:\n",
    "            cnx.select_db(database)\n",
    "            break\n",
    "        else:\n",
    "            print(\"Invalid database name. Please choose from the available databases.\")\n",
    "            print()\n",
    "    \n",
    "    return cnx"
   ]
  },
  {
   "cell_type": "markdown",
   "metadata": {},
   "source": [
    "<h2 style=\"color: #00BFFF;\">[1] Connecting to MySQL Workbench</h2>\n",
    "\n",
    "To establish a connection to a MySQL database:\n",
    "\n",
    "1. Import the required libraries:\n",
    "   - `pymysql` for MySQL connection.\n",
    "   - `getpass` for securely handling database passwords.\n",
    "2. Define a function to create the connection:\n",
    "   - The `create_connection()` function prompts for the password and database name, and opens a connection to the database.\n",
    "3. Test the connection:\n",
    "   - Once connected, the script confirms if the connection was successfully established."
   ]
  },
  {
   "cell_type": "code",
   "execution_count": 6,
   "metadata": {},
   "outputs": [
    {
     "name": "stdin",
     "output_type": "stream",
     "text": [
      "Please, kindly insert your password:  ········\n"
     ]
    },
    {
     "name": "stdout",
     "output_type": "stream",
     "text": [
      "Connection successfully opened.\n",
      "\n",
      "Available databases:\n",
      "- A_issDB\n",
      "- AppleDB\n",
      "- bank\n",
      "- csv_example\n",
      "- information_schema\n",
      "- ISS_DB\n",
      "- ISS_DB2\n",
      "- iss_db_final\n",
      "- iss_db_final_2\n",
      "- iss_db_test\n",
      "- last_test\n",
      "- LibraryDB\n",
      "- mysql\n",
      "- new_schema\n",
      "- performance_schema\n",
      "- project_DB\n",
      "- sakila\n",
      "- sys\n",
      "- test_db\n",
      "- testdb\n",
      "- w3schools\n",
      "\n"
     ]
    },
    {
     "name": "stdin",
     "output_type": "stream",
     "text": [
      "Please, kindly insert your database name:  bank\n"
     ]
    }
   ],
   "source": [
    "# To test it, use a DB from Drive: LibraryDB, AppleDB or w3schools\n",
    "connection = create_connection()"
   ]
  },
  {
   "cell_type": "markdown",
   "metadata": {},
   "source": [
    "<h3 style=\"color: #00BFFF;\">How to create a connection:</h3>"
   ]
  },
  {
   "cell_type": "code",
   "execution_count": 5,
   "metadata": {},
   "outputs": [],
   "source": [
    "# cursor object is used to interact with the database\n",
    "cursor = connection.cursor()"
   ]
  },
  {
   "cell_type": "code",
   "execution_count": 9,
   "metadata": {},
   "outputs": [
    {
     "data": {
      "text/plain": [
       "21"
      ]
     },
     "execution_count": 9,
     "metadata": {},
     "output_type": "execute_result"
    }
   ],
   "source": [
    "# .execute() method is used to run SQL querie\n",
    "cursor.execute(\"SHOW DATABASES\")"
   ]
  },
  {
   "cell_type": "code",
   "execution_count": 11,
   "metadata": {},
   "outputs": [],
   "source": [
    "# .fetchall() method is used to fetch the results of the query\n",
    "cursor.fetchall()"
   ]
  },
  {
   "cell_type": "code",
   "execution_count": null,
   "metadata": {},
   "outputs": [],
   "source": [
    "connection = pymysql.connect(user='root', password=password, host='localhost')\n",
    "cursor = connection.cursor()"
   ]
  },
  {
   "cell_type": "code",
   "execution_count": 15,
   "metadata": {},
   "outputs": [],
   "source": [
    "# .select_db() method is used to select the database\n",
    "connection.select_db(\"LibraryDB\")"
   ]
  },
  {
   "cell_type": "code",
   "execution_count": 16,
   "metadata": {},
   "outputs": [
    {
     "name": "stdin",
     "output_type": "stream",
     "text": [
      "Please enter your SQL query or command:  show tables\n"
     ]
    }
   ],
   "source": [
    "query = input(\"Please enter your SQL query or command: \")"
   ]
  },
  {
   "cell_type": "code",
   "execution_count": 17,
   "metadata": {},
   "outputs": [
    {
     "data": {
      "text/html": [
       "<div>\n",
       "<style scoped>\n",
       "    .dataframe tbody tr th:only-of-type {\n",
       "        vertical-align: middle;\n",
       "    }\n",
       "\n",
       "    .dataframe tbody tr th {\n",
       "        vertical-align: top;\n",
       "    }\n",
       "\n",
       "    .dataframe thead th {\n",
       "        text-align: right;\n",
       "    }\n",
       "</style>\n",
       "<table border=\"1\" class=\"dataframe\">\n",
       "  <thead>\n",
       "    <tr style=\"text-align: right;\">\n",
       "      <th></th>\n",
       "      <th>Tables_in_librarydb</th>\n",
       "    </tr>\n",
       "  </thead>\n",
       "  <tbody>\n",
       "    <tr>\n",
       "      <th>0</th>\n",
       "      <td>activeloans</td>\n",
       "    </tr>\n",
       "    <tr>\n",
       "      <th>1</th>\n",
       "      <td>Author</td>\n",
       "    </tr>\n",
       "    <tr>\n",
       "      <th>2</th>\n",
       "      <td>Book</td>\n",
       "    </tr>\n",
       "    <tr>\n",
       "      <th>3</th>\n",
       "      <td>Loan</td>\n",
       "    </tr>\n",
       "    <tr>\n",
       "      <th>4</th>\n",
       "      <td>Member</td>\n",
       "    </tr>\n",
       "  </tbody>\n",
       "</table>\n",
       "</div>"
      ],
      "text/plain": [
       "  Tables_in_librarydb\n",
       "0         activeloans\n",
       "1              Author\n",
       "2                Book\n",
       "3                Loan\n",
       "4              Member"
      ]
     },
     "execution_count": 17,
     "metadata": {},
     "output_type": "execute_result"
    }
   ],
   "source": [
    "# how to make a df from a query\n",
    "pd.read_sql(query, connection)"
   ]
  },
  {
   "cell_type": "code",
   "execution_count": 18,
   "metadata": {},
   "outputs": [
    {
     "name": "stdin",
     "output_type": "stream",
     "text": [
      "Please enter your SQL query or command:  select * from Book limit 5\n"
     ]
    }
   ],
   "source": [
    "query = input(\"Please enter your SQL query or command: \")"
   ]
  },
  {
   "cell_type": "code",
   "execution_count": 19,
   "metadata": {},
   "outputs": [
    {
     "data": {
      "text/html": [
       "<div>\n",
       "<style scoped>\n",
       "    .dataframe tbody tr th:only-of-type {\n",
       "        vertical-align: middle;\n",
       "    }\n",
       "\n",
       "    .dataframe tbody tr th {\n",
       "        vertical-align: top;\n",
       "    }\n",
       "\n",
       "    .dataframe thead th {\n",
       "        text-align: right;\n",
       "    }\n",
       "</style>\n",
       "<table border=\"1\" class=\"dataframe\">\n",
       "  <thead>\n",
       "    <tr style=\"text-align: right;\">\n",
       "      <th></th>\n",
       "      <th>book_id</th>\n",
       "      <th>title</th>\n",
       "      <th>genre</th>\n",
       "      <th>publication_year</th>\n",
       "      <th>author_id</th>\n",
       "    </tr>\n",
       "  </thead>\n",
       "  <tbody>\n",
       "    <tr>\n",
       "      <th>0</th>\n",
       "      <td>1</td>\n",
       "      <td>The Grapes of Wrath</td>\n",
       "      <td>Fiction</td>\n",
       "      <td>1939</td>\n",
       "      <td>1</td>\n",
       "    </tr>\n",
       "    <tr>\n",
       "      <th>1</th>\n",
       "      <td>2</td>\n",
       "      <td>1984</td>\n",
       "      <td>Dystopia</td>\n",
       "      <td>1949</td>\n",
       "      <td>2</td>\n",
       "    </tr>\n",
       "    <tr>\n",
       "      <th>2</th>\n",
       "      <td>3</td>\n",
       "      <td>Pride and Prejudice</td>\n",
       "      <td>Romance</td>\n",
       "      <td>1913</td>\n",
       "      <td>3</td>\n",
       "    </tr>\n",
       "    <tr>\n",
       "      <th>3</th>\n",
       "      <td>4</td>\n",
       "      <td>The Adventures of Tom Sawyer</td>\n",
       "      <td>Adventure</td>\n",
       "      <td>1976</td>\n",
       "      <td>4</td>\n",
       "    </tr>\n",
       "    <tr>\n",
       "      <th>4</th>\n",
       "      <td>5</td>\n",
       "      <td>New Book Title</td>\n",
       "      <td>Fantasy</td>\n",
       "      <td>2023</td>\n",
       "      <td>1</td>\n",
       "    </tr>\n",
       "  </tbody>\n",
       "</table>\n",
       "</div>"
      ],
      "text/plain": [
       "   book_id                         title      genre  publication_year  \\\n",
       "0        1           The Grapes of Wrath    Fiction              1939   \n",
       "1        2                          1984   Dystopia              1949   \n",
       "2        3           Pride and Prejudice    Romance              1913   \n",
       "3        4  The Adventures of Tom Sawyer  Adventure              1976   \n",
       "4        5                New Book Title    Fantasy              2023   \n",
       "\n",
       "   author_id  \n",
       "0          1  \n",
       "1          2  \n",
       "2          3  \n",
       "3          4  \n",
       "4          1  "
      ]
     },
     "execution_count": 19,
     "metadata": {},
     "output_type": "execute_result"
    }
   ],
   "source": [
    "# how to make a df from a query\n",
    "pd.read_sql(query, connection)"
   ]
  },
  {
   "cell_type": "markdown",
   "metadata": {},
   "source": [
    "<h3 style=\"color: #00BFFF;\">Closing the connection</h3>\n",
    "\n",
    "The data can now be queried, transformed, and analyzed directly within MySQL or exported for further processing in Python."
   ]
  },
  {
   "cell_type": "code",
   "execution_count": 20,
   "metadata": {},
   "outputs": [],
   "source": [
    "connection.close()"
   ]
  },
  {
   "cell_type": "markdown",
   "metadata": {},
   "source": [
    "<div style=\"text-align: center;\">\n",
    "    <img src=\"https://i.giphy.com/media/v1.Y2lkPTc5MGI3NjExeTc0ZGs1cHMwdDh3bmtvb2lva3NtZDk1cTB5NGhueW04bW1jdDN6ayZlcD12MV9pbnRlcm5hbF9naWZfYnlfaWQmY3Q9Zw/4meHSobzwZNncjZ7bZ/giphy.gif\" alt=\"let's go\">\n",
    "</div>"
   ]
  },
  {
   "cell_type": "markdown",
   "metadata": {},
   "source": [
    "<h2 style=\"color: #00BFFF;\">[2] Retrieving Data</h2>"
   ]
  },
  {
   "cell_type": "markdown",
   "metadata": {},
   "source": [
    "<center>\n",
    "<img src=\"https://upload.wikimedia.org/wikipedia/commons/thumb/1/17/STS-134_EVA4_view_to_the_Space_Shuttle_Endeavour.jpg/1920px-STS-134_EVA4_view_to_the_Space_Shuttle_Endeavour.jpg\"\n",
    "    style=\"width:40%;\">\n",
    "</center>"
   ]
  },
  {
   "cell_type": "markdown",
   "metadata": {},
   "source": [
    "The ISS API provides real-time data about the International Space Station's location and other relevant information. You can access the API documentation [here](https://wheretheiss.at/w/developer).\n",
    "\n",
    "To get data from the ISS API using Python, you can use the `requests`, `json`, and `time` libraries."
   ]
  },
  {
   "cell_type": "code",
   "execution_count": 26,
   "metadata": {},
   "outputs": [],
   "source": [
    "url = \"https://api.wheretheiss.at/v1/satellites\" # API URL\n",
    "\n",
    "response = requests.get(url) # GET request\n",
    "data = response.json() # JSON response\n",
    "key = str(data[0][\"id\"])"
   ]
  },
  {
   "cell_type": "code",
   "execution_count": 33,
   "metadata": {},
   "outputs": [],
   "source": [
    "url = \"https://api.wheretheiss.at/v1/satellites/\"+key\n",
    "response = requests.get(url) # GET request\n",
    "data = response.json() # JSON response"
   ]
  },
  {
   "cell_type": "code",
   "execution_count": 34,
   "metadata": {},
   "outputs": [],
   "source": [
    "positions = []\n",
    "\n",
    "for i in range(30):\n",
    "    response = requests.get(url)\n",
    "    data = response.json()\n",
    "    positions.append(data)\n",
    "    time.sleep(0.5)"
   ]
  },
  {
   "cell_type": "code",
   "execution_count": 37,
   "metadata": {},
   "outputs": [
    {
     "data": {
      "text/html": [
       "<div>\n",
       "<style scoped>\n",
       "    .dataframe tbody tr th:only-of-type {\n",
       "        vertical-align: middle;\n",
       "    }\n",
       "\n",
       "    .dataframe tbody tr th {\n",
       "        vertical-align: top;\n",
       "    }\n",
       "\n",
       "    .dataframe thead th {\n",
       "        text-align: right;\n",
       "    }\n",
       "</style>\n",
       "<table border=\"1\" class=\"dataframe\">\n",
       "  <thead>\n",
       "    <tr style=\"text-align: right;\">\n",
       "      <th></th>\n",
       "      <th>name</th>\n",
       "      <th>id</th>\n",
       "      <th>latitude</th>\n",
       "      <th>longitude</th>\n",
       "      <th>altitude</th>\n",
       "      <th>velocity</th>\n",
       "      <th>visibility</th>\n",
       "      <th>footprint</th>\n",
       "      <th>timestamp</th>\n",
       "      <th>daynum</th>\n",
       "      <th>solar_lat</th>\n",
       "      <th>solar_lon</th>\n",
       "      <th>units</th>\n",
       "    </tr>\n",
       "  </thead>\n",
       "  <tbody>\n",
       "    <tr>\n",
       "      <th>0</th>\n",
       "      <td>iss</td>\n",
       "      <td>25544</td>\n",
       "      <td>-51.661987</td>\n",
       "      <td>19.552473</td>\n",
       "      <td>435.671036</td>\n",
       "      <td>27538.243666</td>\n",
       "      <td>daylight</td>\n",
       "      <td>4586.346516</td>\n",
       "      <td>1741944070</td>\n",
       "      <td>2.460749e+06</td>\n",
       "      <td>-2.363632</td>\n",
       "      <td>41.994721</td>\n",
       "      <td>kilometers</td>\n",
       "    </tr>\n",
       "    <tr>\n",
       "      <th>1</th>\n",
       "      <td>iss</td>\n",
       "      <td>25544</td>\n",
       "      <td>-51.657069</td>\n",
       "      <td>19.651483</td>\n",
       "      <td>435.664177</td>\n",
       "      <td>27538.267505</td>\n",
       "      <td>daylight</td>\n",
       "      <td>4586.312355</td>\n",
       "      <td>1741944071</td>\n",
       "      <td>2.460749e+06</td>\n",
       "      <td>-2.363627</td>\n",
       "      <td>41.990553</td>\n",
       "      <td>kilometers</td>\n",
       "    </tr>\n",
       "    <tr>\n",
       "      <th>2</th>\n",
       "      <td>iss</td>\n",
       "      <td>25544</td>\n",
       "      <td>-51.652060</td>\n",
       "      <td>19.750470</td>\n",
       "      <td>435.657281</td>\n",
       "      <td>27538.291421</td>\n",
       "      <td>daylight</td>\n",
       "      <td>4586.278010</td>\n",
       "      <td>1741944072</td>\n",
       "      <td>2.460749e+06</td>\n",
       "      <td>-2.363622</td>\n",
       "      <td>41.986386</td>\n",
       "      <td>kilometers</td>\n",
       "    </tr>\n",
       "  </tbody>\n",
       "</table>\n",
       "</div>"
      ],
      "text/plain": [
       "  name     id   latitude  longitude    altitude      velocity visibility  \\\n",
       "0  iss  25544 -51.661987  19.552473  435.671036  27538.243666   daylight   \n",
       "1  iss  25544 -51.657069  19.651483  435.664177  27538.267505   daylight   \n",
       "2  iss  25544 -51.652060  19.750470  435.657281  27538.291421   daylight   \n",
       "\n",
       "     footprint   timestamp        daynum  solar_lat  solar_lon       units  \n",
       "0  4586.346516  1741944070  2.460749e+06  -2.363632  41.994721  kilometers  \n",
       "1  4586.312355  1741944071  2.460749e+06  -2.363627  41.990553  kilometers  \n",
       "2  4586.278010  1741944072  2.460749e+06  -2.363622  41.986386  kilometers  "
      ]
     },
     "execution_count": 37,
     "metadata": {},
     "output_type": "execute_result"
    }
   ],
   "source": [
    "df_iss = pd.DataFrame(positions)\n",
    "df_iss.head(3)"
   ]
  },
  {
   "cell_type": "markdown",
   "metadata": {},
   "source": [
    "<h2 style=\"color: #00BFFF;\">[3] ETL: Data Storage</h2>\n",
    "\n",
    "The **ETL Process**:\n",
    "1. **Extract**:\n",
    "   - Retrieve ISS satellite data from the API (`https://api.wheretheiss.at/v1/satellites`).\n",
    "   - Collect real-time positional data for the ISS over multiple requests.\n",
    "2. **Transform** (optional):\n",
    "   - Transformations can be applied directly within SQL later for further analysis.\n",
    "3. **Load**:\n",
    "   - Insert the raw API data into the structured SQL table `ISS_Position`."
   ]
  },
  {
   "cell_type": "markdown",
   "metadata": {},
   "source": [
    "<h3 style=\"color: #00BFFF;\">Create Database</h3>"
   ]
  },
  {
   "cell_type": "code",
   "execution_count": 38,
   "metadata": {},
   "outputs": [
    {
     "name": "stdin",
     "output_type": "stream",
     "text": [
      "Please, kindly insert your password:  ········\n"
     ]
    },
    {
     "name": "stdout",
     "output_type": "stream",
     "text": [
      "Connection successfully opened.\n",
      "\n",
      "Available databases:\n",
      "- A_issDB\n",
      "- AppleDB\n",
      "- bank\n",
      "- csv_example\n",
      "- information_schema\n",
      "- ISS_DB\n",
      "- ISS_DB2\n",
      "- iss_db_final\n",
      "- iss_db_final_2\n",
      "- iss_db_test\n",
      "- last_test\n",
      "- LibraryDB\n",
      "- mysql\n",
      "- new_schema\n",
      "- performance_schema\n",
      "- project_DB\n",
      "- sakila\n",
      "- sys\n",
      "- test_db\n",
      "- testdb\n",
      "- w3schools\n",
      "\n"
     ]
    },
    {
     "name": "stdin",
     "output_type": "stream",
     "text": [
      "Please, kindly insert your database name:  mysql\n"
     ]
    }
   ],
   "source": [
    "connection = create_connection()"
   ]
  },
  {
   "cell_type": "code",
   "execution_count": 39,
   "metadata": {},
   "outputs": [],
   "source": [
    "cursor = connection.cursor()"
   ]
  },
  {
   "cell_type": "code",
   "execution_count": 41,
   "metadata": {},
   "outputs": [],
   "source": [
    "cursor.execute(\"CREATE DATABASE IF NOT EXISTS iss_db_test;\")\n",
    "connection.commit()"
   ]
  },
  {
   "cell_type": "code",
   "execution_count": 42,
   "metadata": {},
   "outputs": [],
   "source": [
    "connection.select_db(\"iss_db_test\")"
   ]
  },
  {
   "cell_type": "code",
   "execution_count": 43,
   "metadata": {},
   "outputs": [
    {
     "data": {
      "text/html": [
       "<div>\n",
       "<style scoped>\n",
       "    .dataframe tbody tr th:only-of-type {\n",
       "        vertical-align: middle;\n",
       "    }\n",
       "\n",
       "    .dataframe tbody tr th {\n",
       "        vertical-align: top;\n",
       "    }\n",
       "\n",
       "    .dataframe thead th {\n",
       "        text-align: right;\n",
       "    }\n",
       "</style>\n",
       "<table border=\"1\" class=\"dataframe\">\n",
       "  <thead>\n",
       "    <tr style=\"text-align: right;\">\n",
       "      <th></th>\n",
       "      <th>Tables_in_linux2</th>\n",
       "    </tr>\n",
       "  </thead>\n",
       "  <tbody>\n",
       "  </tbody>\n",
       "</table>\n",
       "</div>"
      ],
      "text/plain": [
       "Empty DataFrame\n",
       "Columns: [Tables_in_linux2]\n",
       "Index: []"
      ]
     },
     "execution_count": 43,
     "metadata": {},
     "output_type": "execute_result"
    }
   ],
   "source": [
    "pd.read_sql(\"SHOW TABLES\", connection)"
   ]
  },
  {
   "cell_type": "markdown",
   "metadata": {},
   "source": [
    "<h2 style=\"color: #00BFFF;\">Create your tables</h2>"
   ]
  },
  {
   "cell_type": "markdown",
   "metadata": {},
   "source": [
    "<div style=\"text-align: center;\">\n",
    "    <img src=\"https://i.giphy.com/media/v1.Y2lkPTc5MGI3NjExN3RjeGQ0MGVvazlvZ2d0YzFnNW1ybmsyZ3BuYW5lMzVpZG9kMG1hciZlcD12MV9pbnRlcm5hbF9naWZfYnlfaWQmY3Q9Zw/l3vRomYKVF3uSY8k8/giphy.gif\" alt=\"let's go\">\n",
    "</div>"
   ]
  },
  {
   "cell_type": "code",
   "execution_count": 49,
   "metadata": {},
   "outputs": [],
   "source": [
    "connection.select_db(\"linux2\")"
   ]
  },
  {
   "cell_type": "code",
   "execution_count": 51,
   "metadata": {},
   "outputs": [],
   "source": [
    "# Create a new table in the new schema to store ISS data\n",
    "create_table_query = \"\"\"\n",
    "CREATE TABLE IF NOT EXISTS positions (\n",
    "    name VARCHAR(10),\n",
    "    id INT,\n",
    "    latitude FLOAT,\n",
    "    longitude FLOAT,\n",
    "    altitude FLOAT,\n",
    "    velocity FLOAT,\n",
    "    visibility VARCHAR(50),\n",
    "    footprint FLOAT,\n",
    "    timestamp BIGINT,\n",
    "    daynum FLOAT,\n",
    "    solar_lat FLOAT,\n",
    "    solar_lon FLOAT,\n",
    "    units VARCHAR(50)\n",
    ");\n",
    "\"\"\"\n",
    "\n",
    "# For best usage on VARCHAR, check the maximum length of the data\n",
    "# BIGINT is used for timestamp because it is in Unix format meaning it is in seconds since 1970\n",
    "# To add --> primary key auto increment"
   ]
  },
  {
   "cell_type": "code",
   "execution_count": 52,
   "metadata": {},
   "outputs": [],
   "source": [
    "cursor.execute(create_table_query)\n",
    "connection.commit()"
   ]
  },
  {
   "cell_type": "markdown",
   "metadata": {},
   "source": [
    "<h3 style=\"color: #00BFFF;\">Insert the values</h3>"
   ]
  },
  {
   "cell_type": "code",
   "execution_count": 53,
   "metadata": {},
   "outputs": [],
   "source": [
    "columns = \", \".join(df_iss.columns)\n",
    "placeholders = \", \".join([\"%s\"] * len(df_iss.columns)) "
   ]
  },
  {
   "cell_type": "code",
   "execution_count": 58,
   "metadata": {},
   "outputs": [
    {
     "data": {
      "text/plain": [
       "'name, id, latitude, longitude, altitude, velocity, visibility, footprint, timestamp, daynum, solar_lat, solar_lon, units'"
      ]
     },
     "execution_count": 58,
     "metadata": {},
     "output_type": "execute_result"
    }
   ],
   "source": [
    "columns"
   ]
  },
  {
   "cell_type": "code",
   "execution_count": 57,
   "metadata": {},
   "outputs": [
    {
     "data": {
      "text/plain": [
       "'%s, %s, %s, %s, %s, %s, %s, %s, %s, %s, %s, %s, %s'"
      ]
     },
     "execution_count": 57,
     "metadata": {},
     "output_type": "execute_result"
    }
   ],
   "source": [
    "placeholders"
   ]
  },
  {
   "cell_type": "code",
   "execution_count": 59,
   "metadata": {},
   "outputs": [],
   "source": [
    "insert_query = f\"\"\"\n",
    "INSERT INTO positions ({columns})\n",
    "VALUES ({placeholders})\n",
    "\"\"\""
   ]
  },
  {
   "cell_type": "code",
   "execution_count": 60,
   "metadata": {},
   "outputs": [],
   "source": [
    "for _, row in df_iss.iterrows(): # _ is used to ignore the index,rows is\n",
    "    cursor.execute(insert_query, tuple(row)) # tuple(row) means\n",
    "connection.commit()"
   ]
  },
  {
   "cell_type": "code",
   "execution_count": 63,
   "metadata": {},
   "outputs": [
    {
     "data": {
      "text/plain": [
       "'name, id, latitude, longitude, altitude, velocity, visibility, footprint, timestamp, daynum, solar_lat, solar_lon, units'"
      ]
     },
     "execution_count": 63,
     "metadata": {},
     "output_type": "execute_result"
    }
   ],
   "source": [
    "columns"
   ]
  },
  {
   "cell_type": "code",
   "execution_count": 62,
   "metadata": {},
   "outputs": [
    {
     "data": {
      "text/plain": [
       "('iss',\n",
       " np.int64(25544),\n",
       " np.float64(-51.661987288494),\n",
       " np.float64(19.55247296949),\n",
       " np.float64(435.67103563248),\n",
       " np.float64(27538.243665553),\n",
       " 'daylight',\n",
       " np.float64(4586.3465163906),\n",
       " np.int64(1741944070),\n",
       " np.float64(2460748.8896991),\n",
       " np.float64(-2.3636315519231),\n",
       " np.float64(41.994720843788),\n",
       " 'kilometers')"
      ]
     },
     "execution_count": 62,
     "metadata": {},
     "output_type": "execute_result"
    }
   ],
   "source": [
    "tuple(df_iss.iloc[0])"
   ]
  },
  {
   "cell_type": "markdown",
   "metadata": {},
   "source": [
    "<h1 style=\"color: #00BFFF;\">TEMPLATE: How to create your tables</h1>"
   ]
  },
  {
   "cell_type": "code",
   "execution_count": null,
   "metadata": {},
   "outputs": [],
   "source": [
    "# 📚 Basic libraries\n",
    "import pandas as pd # data manipulation\n",
    "import numpy as np # numerical operations\n",
    "import warnings # warning messages management\n",
    "\n",
    "# ⚙️ Settings\n",
    "pd.set_option('display.max_columns', None) # display all columns\n",
    "warnings.filterwarnings('ignore') # ignore warnings\n",
    "\n",
    "# 🌐 New Libraries\n",
    "from getpass import getpass # get password without showing it\n",
    "import pymysql # MySQL connection\n",
    "\n",
    "# ⚙️ Settings\n",
    "pd.set_option('display.max_columns', None) # display all columns\n",
    "warnings.filterwarnings('ignore') # ignore warnings"
   ]
  },
  {
   "cell_type": "code",
   "execution_count": null,
   "metadata": {},
   "outputs": [],
   "source": [
    "def create_connection():\n",
    "    password = getpass(\"Please, kindly insert your password: \")\n",
    "    cnx = pymysql.connect(user='root', password=password, host='localhost')\n",
    "    \n",
    "    if cnx.open:\n",
    "        print(\"Connection successfully opened.\")\n",
    "        print()\n",
    "        cursor = cnx.cursor()\n",
    "        cursor.execute(\"SHOW DATABASES\")\n",
    "        databases = cursor.fetchall()\n",
    "        print(\"Available databases:\")\n",
    "        db_list = [db[0] for db in databases]\n",
    "        for db in db_list:\n",
    "            print(f\"- {db}\")\n",
    "        print()\n",
    "    else:\n",
    "        print(\"Failed to open connection.\")\n",
    "        print()\n",
    "        return None\n",
    "    \n",
    "    while True:\n",
    "        database = input(\"Please, kindly insert your database name: \")\n",
    "        if database in db_list:\n",
    "            cnx.select_db(database)\n",
    "            break\n",
    "        else:\n",
    "            print(\"Invalid database name. Please choose from the available databases.\")\n",
    "            print()\n",
    "    \n",
    "    return cnx"
   ]
  },
  {
   "cell_type": "markdown",
   "metadata": {},
   "source": [
    "<h2 style=\"color: #00BFFF;\">[1] Connecting to MySQL Workbench</h2>"
   ]
  },
  {
   "cell_type": "code",
   "execution_count": null,
   "metadata": {},
   "outputs": [],
   "source": [
    "# To test it, use a DB from Drive: LibraryDB, AppleDB or w3schools\n",
    "connection = create_connection()"
   ]
  },
  {
   "cell_type": "markdown",
   "metadata": {},
   "source": [
    "<h2 style=\"color: #00BFFF;\">[2] ETL: Data Storage</h2>"
   ]
  },
  {
   "cell_type": "code",
   "execution_count": null,
   "metadata": {},
   "outputs": [],
   "source": [
    "df = pd.read_csv(\"artworks_data.csv\")"
   ]
  },
  {
   "cell_type": "code",
   "execution_count": null,
   "metadata": {},
   "outputs": [],
   "source": [
    "# cursor.execute(\"create database if not exists iss_db_final;\")\n",
    "# connection.commit()"
   ]
  },
  {
   "cell_type": "code",
   "execution_count": null,
   "metadata": {},
   "outputs": [],
   "source": [
    "connection.select_db(\"data_artwork\")\n",
    "connection.commit()"
   ]
  },
  {
   "cell_type": "code",
   "execution_count": null,
   "metadata": {},
   "outputs": [],
   "source": [
    "df.head(2)"
   ]
  },
  {
   "cell_type": "markdown",
   "metadata": {},
   "source": [
    "## Create your tables:"
   ]
  },
  {
   "cell_type": "code",
   "execution_count": null,
   "metadata": {},
   "outputs": [],
   "source": [
    "df.columns"
   ]
  },
  {
   "cell_type": "code",
   "execution_count": null,
   "metadata": {},
   "outputs": [],
   "source": [
    "df.dropna(inplace=True)"
   ]
  },
  {
   "cell_type": "code",
   "execution_count": null,
   "metadata": {},
   "outputs": [],
   "source": [
    "create_table_query = \"\"\"\n",
    "CREATE TABLE IF NOT EXISTS artwork (\n",
    "    artist VARCHAR(255),\n",
    "    birth FLOAT,\n",
    "    death FLOAT,\n",
    "    nationality VARCHAR(255),\n",
    "    gender VARCHAR(255),\n",
    "    painting_date FLOAT,\n",
    "    height FLOAT,\n",
    "    width FLOAT\n",
    ");\n",
    "\"\"\""
   ]
  },
  {
   "cell_type": "code",
   "execution_count": null,
   "metadata": {},
   "outputs": [],
   "source": [
    "cursor = connection.cursor()"
   ]
  },
  {
   "cell_type": "code",
   "execution_count": null,
   "metadata": {},
   "outputs": [],
   "source": [
    "cursor.execute(create_table_query)\n",
    "connection.commit()"
   ]
  },
  {
   "cell_type": "markdown",
   "metadata": {},
   "source": [
    "<h3 style=\"color: #00BFFF;\">Insert the values</h3>"
   ]
  },
  {
   "cell_type": "code",
   "execution_count": null,
   "metadata": {},
   "outputs": [],
   "source": [
    "columns = \", \".join(df.columns)\n",
    "placeholders = \", \".join([\"%s\"] * len(df.columns))"
   ]
  },
  {
   "cell_type": "code",
   "execution_count": null,
   "metadata": {},
   "outputs": [],
   "source": [
    "insert_query = f\"\"\"\n",
    "INSERT INTO artwork ({columns})\n",
    "VALUES ({placeholders})\n",
    "\"\"\"\n",
    "\n",
    "# Change the table name"
   ]
  },
  {
   "cell_type": "code",
   "execution_count": null,
   "metadata": {},
   "outputs": [],
   "source": [
    "for _, row in df.iterrows():\n",
    "    cursor.execute(insert_query, tuple(row))\n",
    "connection.commit()"
   ]
  },
  {
   "cell_type": "code",
   "execution_count": null,
   "metadata": {},
   "outputs": [],
   "source": [
    "df.isna().sum()"
   ]
  },
  {
   "cell_type": "code",
   "execution_count": null,
   "metadata": {},
   "outputs": [],
   "source": [
    "df.shape"
   ]
  }
 ],
 "metadata": {
  "kernelspec": {
   "display_name": "Python 3 (ipykernel)",
   "language": "python",
   "name": "python3"
  },
  "language_info": {
   "codemirror_mode": {
    "name": "ipython",
    "version": 3
   },
   "file_extension": ".py",
   "mimetype": "text/x-python",
   "name": "python",
   "nbconvert_exporter": "python",
   "pygments_lexer": "ipython3",
   "version": "3.13.0"
  }
 },
 "nbformat": 4,
 "nbformat_minor": 4
}
