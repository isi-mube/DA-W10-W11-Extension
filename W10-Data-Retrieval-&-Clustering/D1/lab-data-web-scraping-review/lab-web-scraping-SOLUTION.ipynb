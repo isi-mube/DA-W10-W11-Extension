{
 "cells": [
  {
   "cell_type": "markdown",
   "metadata": {},
   "source": [
    "# Lab | Web Scraping\n",
    "\n",
    "## Exercise: Extracting Information from an HTML Document\n",
    "\n",
    "In this exercise, you will practice web scraping using **BeautifulSoup**. The goal is to extract useful information from an HTML document.\n",
    "\n",
    "Follow the steps below to complete the exercise:\n",
    "\n",
    "1. **Load the HTML document**  \n",
    "   - Use the given HTML code and parse it using `BeautifulSoup`.\n",
    "\n",
    "2. **Find the `<title>` tag**  \n",
    "   - Extract and print the content of the `<title>` tag.\n",
    "\n",
    "3. **Retrieve all paragraph (`<p>`) tags**  \n",
    "   - Find and print all paragraph tags in the document.\n",
    "\n",
    "4. **Count the number of paragraph (`<p>`) tags**  \n",
    "   - Calculate and print the total number of `<p>` tags.\n",
    "\n",
    "5. **Extract the text from the first paragraph (`<p>`)**  \n",
    "   - Retrieve and print only the text inside the first paragraph.\n",
    "\n",
    "6. **Find the length of the text inside the first `<h2>` tag**  \n",
    "   - Extract the text from the first `<h2>` tag and print its length.\n",
    "\n",
    "7. **Find the `href` attribute of the first `<a>` tag**  \n",
    "   - Extract and print the `href` attribute from the first `<a>` tag.\n",
    "\n",
    "8. **Extract all text from the HTML document**  \n",
    "   - Print all the text contained in the document.\n",
    "\n",
    "### More Practice\n",
    "For additional practice, check out more `BeautifulSoup` exercises:  \n",
    "🔹 [w3resource BeautifulSoup Exercises](https://www.w3resource.com/python-exercises/BeautifulSoup/index.php)\n",
    "\n",
    "---\n",
    "\n",
    "Complete each task using the appropriate **BeautifulSoup methods**, such as:\n",
    "- `find()`\n",
    "- `find_all()`\n",
    "- `text`\n",
    "- `get_text()`\n",
    "- `get()`\n",
    "- `select()`\n",
    "\n",
    "Implement the steps using Python and **explain your results** in markdown cells where necessary."
   ]
  },
  {
   "cell_type": "code",
   "execution_count": 1,
   "metadata": {
    "id": "h42oVq2NLIl-"
   },
   "outputs": [],
   "source": [
    "from bs4 import BeautifulSoup\n",
    "html_doc = \"\"\"\n",
    "<html>\n",
    "<head>\n",
    "<meta http-equiv=\"Content-Type\" content=\"text/html;\n",
    "charset=iso-8859-1\">\n",
    "<title>An example of HTML page</title>\n",
    "</head>\n",
    "<body>\n",
    "<h2>This is an example HTML page</h2>\n",
    "<p>\n",
    "Lorem ipsum dolor sit amet, consectetur adipiscing elit. Nunc at nisi velit,\n",
    "aliquet iaculis est. Curabitur porttitor nisi vel lacus euismod egestas. In hac\n",
    "habitasse platea dictumst. In sagittis magna eu odio interdum mollis. Phasellus\n",
    "sagittis pulvinar facilisis. Donec vel odio volutpat tortor volutpat commodo.\n",
    "Donec vehicula vulputate sem, vel iaculis urna molestie eget. Sed pellentesque\n",
    "adipiscing tortor, at condimentum elit elementum sed. Mauris dignissim\n",
    "elementum nunc, non elementum felis condimentum eu. In in turpis quis erat\n",
    "imperdiet vulputate. Pellentesque mauris turpis, dignissim sed iaculis eu,\n",
    "euismod eget ipsum. Vivamus mollis adipiscing viverra. Morbi at sem eget nisl\n",
    "euismod porta.</p>\n",
    "<p><a href=\"https://www.w3resource.com/html/HTML-tutorials.php\">Learn HTML from\n",
    "w3resource.com</a></p>\n",
    "<p><a href=\"https://www.w3resource.com/css/CSS-tutorials.php\">Learn CSS from\n",
    "w3resource.com</a></p>\n",
    "</body>\n",
    "</html>\n",
    "\"\"\""
   ]
  },
  {
   "cell_type": "code",
   "execution_count": 3,
   "metadata": {},
   "outputs": [],
   "source": [
    "soup = BeautifulSoup(html_doc, \"html.parser\")"
   ]
  },
  {
   "cell_type": "code",
   "execution_count": 4,
   "metadata": {
    "id": "DaiguL0GLImA"
   },
   "outputs": [
    {
     "name": "stdout",
     "output_type": "stream",
     "text": [
      "Title tag: An example of HTML page\n"
     ]
    }
   ],
   "source": [
    "# Write a Python program to find the title tags from a given html document.\n",
    "title_tag = soup.find(\"title\")\n",
    "print(\"Title tag:\", title_tag.text)"
   ]
  },
  {
   "cell_type": "code",
   "execution_count": 5,
   "metadata": {
    "id": "8v9XKFQxLImB"
   },
   "outputs": [
    {
     "name": "stdout",
     "output_type": "stream",
     "text": [
      "All paragraph tags: [<p>\n",
      "Lorem ipsum dolor sit amet, consectetur adipiscing elit. Nunc at nisi velit,\n",
      "aliquet iaculis est. Curabitur porttitor nisi vel lacus euismod egestas. In hac\n",
      "habitasse platea dictumst. In sagittis magna eu odio interdum mollis. Phasellus\n",
      "sagittis pulvinar facilisis. Donec vel odio volutpat tortor volutpat commodo.\n",
      "Donec vehicula vulputate sem, vel iaculis urna molestie eget. Sed pellentesque\n",
      "adipiscing tortor, at condimentum elit elementum sed. Mauris dignissim\n",
      "elementum nunc, non elementum felis condimentum eu. In in turpis quis erat\n",
      "imperdiet vulputate. Pellentesque mauris turpis, dignissim sed iaculis eu,\n",
      "euismod eget ipsum. Vivamus mollis adipiscing viverra. Morbi at sem eget nisl\n",
      "euismod porta.</p>, <p><a href=\"https://www.w3resource.com/html/HTML-tutorials.php\">Learn HTML from\n",
      "w3resource.com</a></p>, <p><a href=\"https://www.w3resource.com/css/CSS-tutorials.php\">Learn CSS from\n",
      "w3resource.com</a></p>]\n"
     ]
    }
   ],
   "source": [
    "# Write a Python program to retrieve all the paragraph tags from a given html document\n",
    "paragraphs = soup.find_all(\"p\")\n",
    "print(\"All paragraph tags:\", paragraphs)"
   ]
  },
  {
   "cell_type": "code",
   "execution_count": 6,
   "metadata": {
    "id": "AKwpVxwdLImB"
   },
   "outputs": [
    {
     "name": "stdout",
     "output_type": "stream",
     "text": [
      "Number of paragraph tags: 3\n"
     ]
    }
   ],
   "source": [
    "# Write a Python program to get the number of paragraph tags of a given html document.\n",
    "num_paragraphs = len(paragraphs)\n",
    "print(\"Number of paragraph tags:\", num_paragraphs)"
   ]
  },
  {
   "cell_type": "code",
   "execution_count": 7,
   "metadata": {
    "id": "HnoXJ2crLImB"
   },
   "outputs": [
    {
     "name": "stdout",
     "output_type": "stream",
     "text": [
      "First paragraph text: \n",
      "Lorem ipsum dolor sit amet, consectetur adipiscing elit. Nunc at nisi velit,\n",
      "aliquet iaculis est. Curabitur porttitor nisi vel lacus euismod egestas. In hac\n",
      "habitasse platea dictumst. In sagittis magna eu odio interdum mollis. Phasellus\n",
      "sagittis pulvinar facilisis. Donec vel odio volutpat tortor volutpat commodo.\n",
      "Donec vehicula vulputate sem, vel iaculis urna molestie eget. Sed pellentesque\n",
      "adipiscing tortor, at condimentum elit elementum sed. Mauris dignissim\n",
      "elementum nunc, non elementum felis condimentum eu. In in turpis quis erat\n",
      "imperdiet vulputate. Pellentesque mauris turpis, dignissim sed iaculis eu,\n",
      "euismod eget ipsum. Vivamus mollis adipiscing viverra. Morbi at sem eget nisl\n",
      "euismod porta.\n"
     ]
    }
   ],
   "source": [
    "# Write a Python program to extract the text in the first paragraph tag of a given html document.\n",
    "first_paragraph_text = paragraphs[0].get_text()\n",
    "print(\"First paragraph text:\", first_paragraph_text)"
   ]
  },
  {
   "cell_type": "code",
   "execution_count": 8,
   "metadata": {
    "id": "fGi2aorjLImB"
   },
   "outputs": [
    {
     "name": "stdout",
     "output_type": "stream",
     "text": [
      "Length of first <h2> tag text: 28\n"
     ]
    }
   ],
   "source": [
    "# Write a Python program to find the length of the text of the first <h2> tag of a given html document.\n",
    "h2_tag = soup.find(\"h2\")\n",
    "h2_text_length = len(h2_tag.get_text()) if h2_tag else 0\n",
    "print(\"Length of first <h2> tag text:\", h2_text_length)"
   ]
  },
  {
   "cell_type": "code",
   "execution_count": 9,
   "metadata": {
    "id": "-kagVhdoLImB"
   },
   "outputs": [
    {
     "name": "stdout",
     "output_type": "stream",
     "text": [
      "Href of first <a> tag: https://www.w3resource.com/html/HTML-tutorials.php\n"
     ]
    }
   ],
   "source": [
    "# Write a Python program to find the href of the first <a> tag of a given html document.\n",
    "first_link = soup.find(\"a\")\n",
    "first_link_href = first_link.get(\"href\") if first_link else None\n",
    "print(\"Href of first <a> tag:\", first_link_href)"
   ]
  },
  {
   "cell_type": "code",
   "execution_count": 10,
   "metadata": {
    "id": "SifIuLdVLImB"
   },
   "outputs": [
    {
     "name": "stdout",
     "output_type": "stream",
     "text": [
      "All extracted text:\n",
      " \n",
      "\n",
      "\n",
      "\n",
      "An example of HTML page\n",
      "\n",
      "\n",
      "This is an example HTML page\n",
      "\n",
      "Lorem ipsum dolor sit amet, consectetur adipiscing elit. Nunc at nisi velit,\n",
      "aliquet iaculis est. Curabitur porttitor nisi vel lacus euismod egestas. In hac\n",
      "habitasse platea dictumst. In sagittis magna eu odio interdum mollis. Phasellus\n",
      "sagittis pulvinar facilisis. Donec vel odio volutpat tortor volutpat commodo.\n",
      "Donec vehicula vulputate sem, vel iaculis urna molestie eget. Sed pellentesque\n",
      "adipiscing tortor, at condimentum elit elementum sed. Mauris dignissim\n",
      "elementum nunc, non elementum felis condimentum eu. In in turpis quis erat\n",
      "imperdiet vulputate. Pellentesque mauris turpis, dignissim sed iaculis eu,\n",
      "euismod eget ipsum. Vivamus mollis adipiscing viverra. Morbi at sem eget nisl\n",
      "euismod porta.\n",
      "Learn HTML from\n",
      "w3resource.com\n",
      "Learn CSS from\n",
      "w3resource.com\n",
      "\n",
      "\n",
      "\n"
     ]
    }
   ],
   "source": [
    "# Write a Python program to extract all the text from a given web page.\n",
    "all_text = soup.get_text()\n",
    "print(\"All extracted text:\\n\", all_text)"
   ]
  }
 ],
 "metadata": {
  "colab": {
   "provenance": []
  },
  "kernelspec": {
   "display_name": "ironhack",
   "language": "python",
   "name": "python3"
  },
  "language_info": {
   "codemirror_mode": {
    "name": "ipython",
    "version": 3
   },
   "file_extension": ".py",
   "mimetype": "text/x-python",
   "name": "python",
   "nbconvert_exporter": "python",
   "pygments_lexer": "ipython3",
   "version": "3.13.0"
  }
 },
 "nbformat": 4,
 "nbformat_minor": 4
}
