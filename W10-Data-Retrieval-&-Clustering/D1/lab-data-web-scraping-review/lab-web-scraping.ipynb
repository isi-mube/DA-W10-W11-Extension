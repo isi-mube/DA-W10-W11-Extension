{
 "cells": [
  {
   "cell_type": "markdown",
   "metadata": {},
   "source": [
    "# Lab | Web Scraping\n",
    "\n",
    "## Exercise: Extracting Information from an HTML Document\n",
    "\n",
    "In this exercise, you will practice web scraping using **BeautifulSoup**. The goal is to extract useful information from an HTML document.\n",
    "\n",
    "Follow the steps below to complete the exercise:\n",
    "\n",
    "1. **Load the HTML document**  \n",
    "   - Use the given HTML code and parse it using `BeautifulSoup`.\n",
    "\n",
    "2. **Find the `<title>` tag**  \n",
    "   - Extract and print the content of the `<title>` tag.\n",
    "\n",
    "3. **Retrieve all paragraph (`<p>`) tags**  \n",
    "   - Find and print all paragraph tags in the document.\n",
    "\n",
    "4. **Count the number of paragraph (`<p>`) tags**  \n",
    "   - Calculate and print the total number of `<p>` tags.\n",
    "\n",
    "5. **Extract the text from the first paragraph (`<p>`)**  \n",
    "   - Retrieve and print only the text inside the first paragraph.\n",
    "\n",
    "6. **Find the length of the text inside the first `<h2>` tag**  \n",
    "   - Extract the text from the first `<h2>` tag and print its length.\n",
    "\n",
    "7. **Find the `href` attribute of the first `<a>` tag**  \n",
    "   - Extract and print the `href` attribute from the first `<a>` tag.\n",
    "\n",
    "8. **Extract all text from the HTML document**  \n",
    "   - Print all the text contained in the document.\n",
    "\n",
    "### More Practice\n",
    "For additional practice, check out more `BeautifulSoup` exercises:  \n",
    "🔹 [w3resource BeautifulSoup Exercises](https://www.w3resource.com/python-exercises/BeautifulSoup/index.php)\n",
    "\n",
    "---\n",
    "\n",
    "Complete each task using the appropriate **BeautifulSoup methods**, such as:\n",
    "- `find()`\n",
    "- `find_all()`\n",
    "- `text`\n",
    "- `get_text()`\n",
    "- `get()`\n",
    "- `select()`\n",
    "\n",
    "Implement the steps using Python and **explain your results** in markdown cells where necessary."
   ]
  },
  {
   "cell_type": "code",
   "execution_count": null,
   "metadata": {
    "id": "h42oVq2NLIl-"
   },
   "outputs": [],
   "source": [
    "from bs4 import BeautifulSoup\n",
    "html_doc = \"\"\"\n",
    "<html>\n",
    "<head>\n",
    "<meta http-equiv=\"Content-Type\" content=\"text/html;\n",
    "charset=iso-8859-1\">\n",
    "<title>An example of HTML page</title>\n",
    "</head>\n",
    "<body>\n",
    "<h2>This is an example HTML page</h2>\n",
    "<p>\n",
    "Lorem ipsum dolor sit amet, consectetur adipiscing elit. Nunc at nisi velit,\n",
    "aliquet iaculis est. Curabitur porttitor nisi vel lacus euismod egestas. In hac\n",
    "habitasse platea dictumst. In sagittis magna eu odio interdum mollis. Phasellus\n",
    "sagittis pulvinar facilisis. Donec vel odio volutpat tortor volutpat commodo.\n",
    "Donec vehicula vulputate sem, vel iaculis urna molestie eget. Sed pellentesque\n",
    "adipiscing tortor, at condimentum elit elementum sed. Mauris dignissim\n",
    "elementum nunc, non elementum felis condimentum eu. In in turpis quis erat\n",
    "imperdiet vulputate. Pellentesque mauris turpis, dignissim sed iaculis eu,\n",
    "euismod eget ipsum. Vivamus mollis adipiscing viverra. Morbi at sem eget nisl\n",
    "euismod porta.</p>\n",
    "<p><a href=\"https://www.w3resource.com/html/HTML-tutorials.php\">Learn HTML from\n",
    "w3resource.com</a></p>\n",
    "<p><a href=\"https://www.w3resource.com/css/CSS-tutorials.php\">Learn CSS from\n",
    "w3resource.com</a></p>\n",
    "</body>\n",
    "</html>\n",
    "\"\"\""
   ]
  },
  {
   "cell_type": "code",
   "execution_count": null,
   "metadata": {
    "id": "DaiguL0GLImA"
   },
   "outputs": [],
   "source": [
    "# Write a Python program to find the title tags from a given html document.\n",
    "\n"
   ]
  },
  {
   "cell_type": "code",
   "execution_count": null,
   "metadata": {
    "id": "8v9XKFQxLImB"
   },
   "outputs": [],
   "source": [
    "# Write a Python program to retrieve all the paragraph tags from a given html document\n",
    "\n"
   ]
  },
  {
   "cell_type": "code",
   "execution_count": null,
   "metadata": {
    "id": "AKwpVxwdLImB"
   },
   "outputs": [],
   "source": [
    "# Write a Python program to get the number of paragraph tags of a given html document.\n",
    "\n"
   ]
  },
  {
   "cell_type": "code",
   "execution_count": null,
   "metadata": {
    "id": "HnoXJ2crLImB"
   },
   "outputs": [],
   "source": [
    "# Write a Python program to extract the text in the first paragraph tag of a given html document.\n",
    "\n"
   ]
  },
  {
   "cell_type": "code",
   "execution_count": null,
   "metadata": {
    "id": "fGi2aorjLImB"
   },
   "outputs": [],
   "source": [
    "# Write a Python program to find the length of the text of the first <h2> tag of a given html document.\n",
    "\n"
   ]
  },
  {
   "cell_type": "code",
   "execution_count": null,
   "metadata": {
    "id": "-kagVhdoLImB"
   },
   "outputs": [],
   "source": [
    "# Write a Python program to find the href of the first <a> tag of a given html document.\n",
    "\n"
   ]
  },
  {
   "cell_type": "code",
   "execution_count": null,
   "metadata": {
    "id": "SifIuLdVLImB"
   },
   "outputs": [],
   "source": [
    "# Write a Python program to extract all the text from a given web page.\n",
    "\n"
   ]
  }
 ],
 "metadata": {
  "colab": {
   "provenance": []
  },
  "kernelspec": {
   "display_name": "Python 3 (ipykernel)",
   "language": "python",
   "name": "python3"
  },
  "language_info": {
   "codemirror_mode": {
    "name": "ipython",
    "version": 3
   },
   "file_extension": ".py",
   "mimetype": "text/x-python",
   "name": "python",
   "nbconvert_exporter": "python",
   "pygments_lexer": "ipython3",
   "version": "3.12.4"
  }
 },
 "nbformat": 4,
 "nbformat_minor": 4
}
